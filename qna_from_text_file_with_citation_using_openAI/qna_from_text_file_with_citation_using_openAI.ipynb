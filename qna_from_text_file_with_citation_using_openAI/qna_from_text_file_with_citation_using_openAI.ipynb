{
 "cells": [
  {
   "cell_type": "markdown",
   "id": "cad301d5-06a3-4e71-b36a-4017f5b1ca24",
   "metadata": {},
   "source": [
    "## 1. Set your API key"
   ]
  },
  {
   "cell_type": "code",
   "execution_count": 1,
   "id": "2955cf1a-3284-4cb6-adbd-7063a0f00d16",
   "metadata": {},
   "outputs": [],
   "source": [
    "apikey = \"sk-...............................\"\n",
    "organization = \"org-........................\""
   ]
  },
  {
   "cell_type": "code",
   "execution_count": null,
   "id": "46d795ad-ca0e-4849-bbc9-6b4024bed7b3",
   "metadata": {},
   "outputs": [],
   "source": []
  },
  {
   "cell_type": "markdown",
   "id": "c1dcad2f-b203-4cf0-a2a8-edb3db8926d3",
   "metadata": {},
   "source": [
    "## 2. load text files"
   ]
  },
  {
   "cell_type": "code",
   "execution_count": 2,
   "id": "5bbfd6fd-dd70-4fa3-97d9-d2ea1b70656c",
   "metadata": {},
   "outputs": [],
   "source": [
    "from langchain.document_loaders import DirectoryLoader"
   ]
  },
  {
   "cell_type": "code",
   "execution_count": 3,
   "id": "590611ec-c917-4c5d-aab2-f8c5da266897",
   "metadata": {},
   "outputs": [],
   "source": [
    "document_directory = \"text_files\"\n",
    "loader = DirectoryLoader(document_directory)\n",
    "documents = loader.load()"
   ]
  },
  {
   "cell_type": "code",
   "execution_count": 4,
   "id": "7a67b186-394c-4c38-911a-a590b99cf582",
   "metadata": {},
   "outputs": [
    {
     "data": {
      "text/plain": [
       "[Document(page_content=\"The history of computers dates back to the early 19th century when Charles Babbage conceived the idea of a mechanical computer. However, it wasn't until the mid-20th century that electronic computers became a reality. The ENIAC, built in 1945, is considered one of the earliest general-purpose electronic computers. Over the years, computers have evolved significantly in terms of size, power, and capabilities. The invention of the microprocessor in the 1970s revolutionized the industry and paved the way for personal computers, leading to the computer revolution in the 1980s.\", metadata={'source': 'text_files\\\\History of Computers.txt'}),\n",
       " Document(page_content='The solar system comprises the Sun and all the celestial objects that orbit it, including planets, moons, asteroids, and comets. The Sun, a massive ball of hot plasma, accounts for over 99% of the total mass of the solar system. The four inner planets, Mercury, Venus, Earth, and Mars, are rocky and relatively small, while the outer planets, Jupiter, Saturn, Uranus, and Neptune, are gas giants with thick atmospheres. Pluto was considered the ninth planet until its reclassification as a dwarf planet in 2006. The solar system is vast and offers fascinating insights into the workings of the universe.', metadata={'source': 'text_files\\\\Solar System.txt'}),\n",
       " Document(page_content='William Shakespeare was an English playwright, poet, and actor, widely regarded as one of the greatest writers in the English language. He was born in Stratford-upon-Avon in 1564 and wrote numerous plays, sonnets, and poems that are still studied and performed today. Some of his most famous works include \"Romeo and Juliet,\" \"Hamlet,\" \"Macbeth,\" and \"Othello.\" Shakespeare\\'s plays explore various themes, such as love, tragedy, ambition, and human nature, making his works timeless and relevant across generations.', metadata={'source': 'text_files\\\\William Shakespeare.txt'})]"
      ]
     },
     "execution_count": 4,
     "metadata": {},
     "output_type": "execute_result"
    }
   ],
   "source": [
    "documents"
   ]
  },
  {
   "cell_type": "code",
   "execution_count": null,
   "id": "3931b6dd-2a56-45ca-be63-e8af28d56b77",
   "metadata": {},
   "outputs": [],
   "source": []
  },
  {
   "cell_type": "markdown",
   "id": "abe16d76-6e60-494e-83e3-5307a0ba56ff",
   "metadata": {},
   "source": [
    "## 3. Load OpenAI Embeddings"
   ]
  },
  {
   "cell_type": "code",
   "execution_count": 5,
   "id": "b6db85e4-fc12-449c-9e15-a54fe65445a1",
   "metadata": {},
   "outputs": [],
   "source": [
    "from langchain.embeddings import OpenAIEmbeddings"
   ]
  },
  {
   "cell_type": "code",
   "execution_count": 6,
   "id": "94f5d2ed-4b4c-4776-8fe5-99a6350db3c6",
   "metadata": {},
   "outputs": [],
   "source": [
    "embeddings = OpenAIEmbeddings(openai_api_key=apikey)"
   ]
  },
  {
   "cell_type": "code",
   "execution_count": null,
   "id": "d891cdc9-1469-48a9-a0d6-60a31ae989e8",
   "metadata": {},
   "outputs": [],
   "source": []
  },
  {
   "cell_type": "markdown",
   "id": "eddf9c07-2db5-4319-8939-9489c5b056aa",
   "metadata": {},
   "source": [
    "## 4. Load OpenAI LLM"
   ]
  },
  {
   "cell_type": "code",
   "execution_count": 7,
   "id": "173a2b3f-749a-4c2e-9684-f83530c2ceff",
   "metadata": {},
   "outputs": [],
   "source": [
    "from langchain.llms import OpenAI"
   ]
  },
  {
   "cell_type": "code",
   "execution_count": 8,
   "id": "b073a21c-831b-42b8-8511-d3e7a3afd71d",
   "metadata": {},
   "outputs": [],
   "source": [
    "llm = OpenAI(openai_api_key=apikey, openai_organization=organization)"
   ]
  },
  {
   "cell_type": "code",
   "execution_count": null,
   "id": "fc2a0595-17fb-413e-87e2-f31dde054da9",
   "metadata": {},
   "outputs": [],
   "source": []
  },
  {
   "cell_type": "markdown",
   "id": "ac1b19e0-9f10-4f7c-bf94-63cd54f7a87c",
   "metadata": {},
   "source": [
    "## 5. Create index"
   ]
  },
  {
   "cell_type": "code",
   "execution_count": 9,
   "id": "f0abfcee-1231-4a16-bf05-ab6bae641bd4",
   "metadata": {},
   "outputs": [],
   "source": [
    "from langchain.vectorstores import Chroma"
   ]
  },
  {
   "cell_type": "code",
   "execution_count": 10,
   "id": "57bfc664-4891-44f2-aee2-2fd535904c88",
   "metadata": {},
   "outputs": [],
   "source": [
    "db = Chroma.from_documents(documents, embeddings)"
   ]
  },
  {
   "cell_type": "code",
   "execution_count": null,
   "id": "31dec995-25a4-455e-9ff2-ec045a7f6ac6",
   "metadata": {},
   "outputs": [],
   "source": []
  },
  {
   "cell_type": "markdown",
   "id": "7b60879d-4f43-445a-880e-f0967bc62ca2",
   "metadata": {},
   "source": [
    "## 6. Create retriever from index and chain it with LLM"
   ]
  },
  {
   "cell_type": "code",
   "execution_count": 11,
   "id": "04367058-c6ec-4272-9644-74924e4c9c65",
   "metadata": {},
   "outputs": [],
   "source": [
    "retriever = db.as_retriever()"
   ]
  },
  {
   "cell_type": "code",
   "execution_count": 12,
   "id": "6ac6baed-d418-4a6c-9ed5-902702bcc2a6",
   "metadata": {},
   "outputs": [],
   "source": [
    "from langchain.chains import RetrievalQAWithSourcesChain"
   ]
  },
  {
   "cell_type": "code",
   "execution_count": 13,
   "id": "0ebbc7cf-9dfe-4298-9c34-7fc72e3ced14",
   "metadata": {},
   "outputs": [],
   "source": [
    "qa = RetrievalQAWithSourcesChain.from_chain_type(llm=llm, retriever=retriever)"
   ]
  },
  {
   "cell_type": "code",
   "execution_count": null,
   "id": "79351fd6-6c9e-4bc3-88da-e2805f687a88",
   "metadata": {},
   "outputs": [],
   "source": []
  },
  {
   "cell_type": "markdown",
   "id": "86f0dcf8-9a8b-41f8-a4bf-a7cad11940c3",
   "metadata": {},
   "source": [
    "## 7. Query the chain"
   ]
  },
  {
   "cell_type": "code",
   "execution_count": 14,
   "id": "ef997d4f-4a6c-4d13-a9fd-413a5ae49c59",
   "metadata": {},
   "outputs": [
    {
     "name": "stderr",
     "output_type": "stream",
     "text": [
      "Number of requested results 4 is greater than number of elements in index 3, updating n_results = 3\n"
     ]
    },
    {
     "data": {
      "text/plain": [
       "{'question': 'What is Jupiter and Saturn ?',\n",
       " 'answer': ' Jupiter and Saturn are gas giants with thick atmospheres, located in the outer solar system. \\n',\n",
       " 'sources': 'text_files\\\\Solar System.txt'}"
      ]
     },
     "execution_count": 14,
     "metadata": {},
     "output_type": "execute_result"
    }
   ],
   "source": [
    "question = \"What is Jupiter and Saturn ?\"\n",
    "generated_text = qa(question)\n",
    "generated_text"
   ]
  },
  {
   "cell_type": "code",
   "execution_count": 16,
   "id": "37dccb73-0a6c-40fa-b2ab-5a550d4d7d40",
   "metadata": {},
   "outputs": [
    {
     "name": "stderr",
     "output_type": "stream",
     "text": [
      "Number of requested results 4 is greater than number of elements in index 3, updating n_results = 3\n"
     ]
    },
    {
     "data": {
      "text/plain": [
       "{'question': 'What happened in 2006 ?',\n",
       " 'answer': ' In 2006, Pluto was reclassified as a dwarf planet.\\n',\n",
       " 'sources': 'text_files\\\\Solar System.txt'}"
      ]
     },
     "execution_count": 16,
     "metadata": {},
     "output_type": "execute_result"
    }
   ],
   "source": [
    "question = \"What happened in 2006 ?\"\n",
    "generated_text = qa(question)\n",
    "generated_text"
   ]
  },
  {
   "cell_type": "code",
   "execution_count": null,
   "id": "160cf913-1a05-40c5-925c-646f6c993004",
   "metadata": {},
   "outputs": [],
   "source": []
  }
 ],
 "metadata": {
  "kernelspec": {
   "display_name": "Python 3 (ipykernel)",
   "language": "python",
   "name": "python3"
  },
  "language_info": {
   "codemirror_mode": {
    "name": "ipython",
    "version": 3
   },
   "file_extension": ".py",
   "mimetype": "text/x-python",
   "name": "python",
   "nbconvert_exporter": "python",
   "pygments_lexer": "ipython3",
   "version": "3.10.0"
  }
 },
 "nbformat": 4,
 "nbformat_minor": 5
}
