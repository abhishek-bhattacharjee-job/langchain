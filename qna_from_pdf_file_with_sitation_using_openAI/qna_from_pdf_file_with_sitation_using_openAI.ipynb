{
 "cells": [
  {
   "cell_type": "markdown",
   "id": "cad301d5-06a3-4e71-b36a-4017f5b1ca24",
   "metadata": {},
   "source": [
    "## 1. Set your API key"
   ]
  },
  {
   "cell_type": "code",
   "execution_count": 1,
   "id": "2955cf1a-3284-4cb6-adbd-7063a0f00d16",
   "metadata": {},
   "outputs": [],
   "source": [
    "apikey = \"sk-...............................\"\n",
    "organization = \"org-........................\""
   ]
  },
  {
   "cell_type": "code",
   "execution_count": null,
   "id": "46d795ad-ca0e-4849-bbc9-6b4024bed7b3",
   "metadata": {},
   "outputs": [],
   "source": []
  },
  {
   "cell_type": "markdown",
   "id": "c1dcad2f-b203-4cf0-a2a8-edb3db8926d3",
   "metadata": {},
   "source": [
    "## 2. load PDF files and split that into chunks"
   ]
  },
  {
   "cell_type": "code",
   "execution_count": 2,
   "id": "5bbfd6fd-dd70-4fa3-97d9-d2ea1b70656c",
   "metadata": {},
   "outputs": [],
   "source": [
    "from langchain.document_loaders import DirectoryLoader"
   ]
  },
  {
   "cell_type": "code",
   "execution_count": 3,
   "id": "590611ec-c917-4c5d-aab2-f8c5da266897",
   "metadata": {},
   "outputs": [],
   "source": [
    "document_directory = \"pdf_files\"\n",
    "loader = DirectoryLoader(document_directory)\n",
    "documents = loader.load()"
   ]
  },
  {
   "cell_type": "code",
   "execution_count": 4,
   "id": "7a67b186-394c-4c38-911a-a590b99cf582",
   "metadata": {
    "collapsed": true,
    "jupyter": {
     "outputs_hidden": true
    }
   },
   "outputs": [
    {
     "data": {
      "text/plain": [
       "[Document(page_content='FAST FACTS FAST FACTS\\n\\nWhat Is Climate Change?\\n\\n1. Climate change can be a natural process where temperature, rainfall, wind and other elements vary over decades or more. In millions of years, our world has been warmer and colder than it is now. But today we are experiencing rapid warming from human activities, primarily due to burning fossil fuels that generate greenhouse gas emissions.\\n\\n2. Increasing greenhouse gas emissions from human activity act like a blanket wrapped around the earth, trapping the sun’s heat and raising temperatures.\\n\\n3. Examples of greenhouse gas emissions that are causing climate change include carbon dioxide and methane. These come from burning fossil fuels such as gasoline for driving a car or coal for heating a building. Clearing land and forests can also release carbon dioxide. Landfills for garbage are another source. Energy, industry, agriculture and waste disposal are among the major emitters.\\n\\n4. Greenhouse gas concentrations are at their highest levels in 2 million years and continue to rise. As a result, the earth is about 1.1°C warmer than it was in the 1800s. The last decade was the warmest on record.\\n\\n5. Many people think climate change mainly means warmer temperatures. But temperature rise is only the beginning of the story. Because the Earth is a system, where everything is connected, changes in one area can influence changes in all others. The consequences of climate change now include, among others, intense droughts, water scarcity, severe fires, rising sea levels, flooding, melting polar ice, catastrophic storms and declining biodiversity.\\n\\n6. People are experiencing climate change in diverse ways. It affects our health, ability to grow food, housing, safety and work. Some of us are already more vulnerable to climate impacts, such as people living in small island developing States. Conditions like sea-level rise and saltwater intrusion have advanced to the point where whole communities have had to relocate. In the future, the number of “climate refugees” is expected to rise.\\n\\n7. Every increase in global warming matters. In a 2018 report, thousands of scientists and government reviewers agreed that limiting global temperature rise to no more than 1.5°C would help us avoid the worst climate impacts and maintain a livable climate. Yet the current path of carbon dioxide emissions could increase global temperature by as much as 4.4°C by the end of the century.\\n\\n8. The emissions that cause climate change come from every part of the world and affect everyone, but some countries produce much more than others. The 100 least- emitting countries generate 3 per cent of total emissions. The 10 largest emitters contribute 68 per cent. Everyone must take climate action, but people and countries creating more of the problem have a greater responsibility to act first.\\n\\n9. Climate change is a huge challenge, but we already know many solutions. These can deliver economic benefits while improving our lives and protecting the environment. We also have global agreements to guide progress, such as the UN Framework Convention on Climate Change and the Paris Agreement. Three broad categories of action are: cut emissions, adapt to climate impacts and finance required adjustments.\\n\\n10. Switching energy systems from fossil fuels to renewables like solar will reduce the emissions driving climate change. But we have to start right now. While a growing coalition of countries is committing to net zero emissions by 2050, about half of emissions cuts must be in place by 2030 to keep warming below 1.5°C. Fossil fuel production must decline by roughly 6 per cent per year between 2020 and 2030.\\n\\n11. Adapting to climate consequences protects people, homes, businesses, livelihoods, infrastructure and natural ecosystems. It covers current impacts and those likely in the future. Adaptation will be required everywhere, but must be prioritized now for the most vulnerable people with the fewest resources to cope with climate hazards. The rate of return can be high. Early warning systems for disasters, for instance, save lives and property, and can deliver benefits up to 10 times the initial cost.\\n\\n12. We can pay the bill now, or pay dearly in the future. Climate action requires significant financial investments by governments and businesses. But climate inaction is vastly more expensive. One critical step is for industrialized countries to fulfil their commitment to provide $100 billion a year to developing countries so they can adapt and move towards greener economies.\\n\\nSources: IPCC (1), WMO (4, 7, 10), WMO (4), IPCC (4, 7), UN Climate Action (8, 10), World Bank (11).', metadata={'source': 'pdf_files\\\\fastfacts-what-is-climate-change.pdf'}),\n",
       " Document(page_content=\"EE 740 Power Transformers\\n\\nY. Baghzouz Spring 2013\\n\\nPreliminary considerations\\n\\nA transformer is a device that converts one AC voltage to another AC voltage at the same frequency. It consists of one or more coil(s) of wire wrapped around a common ferromagnetic core. •\\n\\nIn practice, the windings are wrapped on top of each other to minimize flux leakage.\\n\\nIdeal transformer\\n\\nAn ideal transformer (unlike the real one) can be characterized as follows:\\n\\n1.The core has no hysteresis nor eddy currents. 2.The magnetization curve is vertical with no saturation 3.The leakage flux in the core is zero. 4.The resistance of the windings is zero.\\n\\nConsider a lossless transformer with an input (primary) winding having Np turns and an output (secondary) winding of Ns turns.\\n\\nThe relationship between the voltage applied to the primary winding vp(t) and the voltage produced on the secondary winding vs(t) is\\n\\n()()ppssvtNavtN\\uf03d\\uf03d\\n\\nwhere a is the turn ratio of the transformer.\\n\\nIdeal transformer\\n\\nThe relationship between the primary ip(t) and secondary is(t) currents is\\n\\n()1()psitita\\uf03d\\n\\nPhasor notation:\\n\\npsa\\uf03dVV\\n\\n1psa\\uf03dII\\n\\nThe phase angles of primary and secondary voltages are the same.\\n\\nThe phase angles of primary and secondary currents are the same also.\\n\\nThe ideal transformer changes magnitudes of voltages and currents but not\\n\\ntheir angles.\\n\\nIdeal Transformer\\n\\nOne winding’s terminal is usually marked by a dot used to\\n\\ndetermine the polarity of voltages and currents. If the voltage is positive at the dotted end of the primary winding at some moment of time, the voltage at the dotted end of the secondary winding will also be positive at the same time instance. If the primary current flows into the dotted end of the primary winding, the secondary current will flow out of the dotted end of the secondary winding.\\n\\n\\n\\n\\n\\nPower in an ideal transformer\\n\\nAssuming that \\uf071p and \\uf071s are the angles between voltages and currents on the primary and secondary windings respectively, the power supplied to the transformer by the primary circuit is:\\n\\ncosinpppPVI\\uf071\\uf03d\\n\\nThe power supplied to the output circuit is\\n\\ncosoutsssPVI\\uf071\\uf03d\\n\\nSince ideal transformers do not affect angles between voltages and currents:\\n\\nps\\uf071\\uf071\\uf071\\uf03d\\uf03d\\n\\nPower in an ideal transformer\\n\\nSince for an ideal transformer the following holds:\\n\\n;psspVVIaIa\\uf03d\\uf020\\uf020\\uf020\\uf020\\uf020\\uf020\\uf020\\uf020\\uf020\\uf03d\\n\\nTherefore:\\n\\ncoscoscosoutipsspppnVVIaIPVIaP\\uf071\\uf071\\uf071\\uf03d\\uf03d\\uf03d\\uf03d\\n\\nThe output power of an ideal transformer equals to its input power – to be expected since assumed no loss. Similarly, for reactive and apparent powers:\\n\\nsinsinoutssppinQVIVIQ\\uf071\\uf071\\uf03d\\uf03d\\uf03d\\n\\noutssppinSVIVIS\\uf03d\\uf03d\\uf03d\\n\\nImpedance transformation\\n\\nThe impedance is defined as a following ratio of phasors:\\n\\nLLLZ\\uf03dVI\\n\\nA transformer changes voltages and currents and, therefore, an apparent impedance of the load that is given by\\n\\nLssZ\\uf03dVI\\n\\nThe apparent impedance of the primary circuit is:\\n\\n'LppZ\\uf03dVI\\n\\nwhich is\\n\\n22'psspssLLaaaZaZ\\uf03d\\uf03d\\uf03d\\uf03dVVVIII\\n\\nAnalysis of circuits containing ideal transformers: Example\\n\\nExample 4.1: a) What is the voltage at the load? Calculate the transmission line losses? b) If a 1:10 step up transformer and a 10:1 step down transformer are placed at the generator and the load ends of the transmission line respectively, what are the new load voltage and the new transmission line losses?\\n\\na) Without transformers:\\n\\n48000.18090.837.244348005.2937.8.8GlineloadlineloadAjj\\uf03d\\uf03d\\uf03d\\uf02b\\uf0d0\\uf0b0\\uf03d\\uf02b\\uf02b\\uf0d0\\uf02d\\uf02b\\uf0d0\\uf0b0\\uf0b0\\uf03d\\uf03d\\uf0d0\\uf0b0\\uf020VIIIZZ\\n\\n\\uf028\\uf029\\uf028\\uf029\\uf028\\uf02990.837.8(43)90.837.8536.94540.9loadloadloadjV\\uf03d\\uf03d\\uf0d0\\uf02d\\uf0b0\\uf02b\\uf03d\\uf0d0\\uf02d\\uf0b0\\uf0d0\\uf0b0\\uf03d\\uf0d0\\uf02d\\uf0b0\\uf020VIZ\\n\\n2290.80.181484losslinelinePIRW\\uf03d\\uf03d\\uf0d7\\uf03d\\uf020\\uf020\\n\\nAnalysis of circuits containing ideal transformers: Example\\n\\nb) With transformers, we will • eliminate transformer T2 by referring the load over to the transmission line’s voltage level. Eliminate transformer T1 by referring the transmission line’s voltage level to the source side,\\n\\n\\n\\n'48005.00336.8895.9436.88GeqA\\uf0d0\\uf0b0\\uf03d\\uf03d\\uf0d0\\uf0b0\\uf03d\\uf0d0\\uf02d\\uf0b0\\uf020\\uf020VIZ\\n\\nAnalysis of circuits containing ideal transformers: Example\\n\\nKnowing transformers’ turn ratios, we can determine line and load currents:\\n\\n\\uf028\\uf02910.195.9436.889.59436.88lineGaA\\uf03d\\uf03d\\uf0d7\\uf0d0\\uf02d\\uf0b0\\uf03d\\uf0d0\\uf02d\\uf0b0\\uf020\\uf020II\\n\\n\\uf028\\uf0292109.59436.8895.9436.88loadlineaA\\uf03d\\uf03d\\uf0d7\\uf0d0\\uf02d\\uf0b0\\uf03d\\uf0d0\\uf02d\\uf0b0\\uf020\\uf020II\\n\\nTherefore, the load voltage is:\\n\\n\\uf028\\uf029\\uf028\\uf02995.9436.88536.87479.70.01loadloadloadV\\uf03d\\uf03d\\uf0d0\\uf02d\\uf0b0\\uf0d0\\uf02d\\uf0b0\\uf03d\\uf0d0\\uf02d\\uf0b0\\uf020\\uf020VIZ\\n\\nThe losses in the line are:\\n\\n229.5940.1816.7losslinelinePIRW\\uf03d\\uf03d\\uf0d7\\uf03d\\uf020\\uf020\\n\\nReal transformer\\n\\nFlux leakage\\n\\nA portion of the flux produced in the primary coil passes through the secondary coil (mutual flux); the rest passes through the external medium (leakage flux):\\n\\npmLp\\uf066\\uf066\\uf066\\uf03d\\uf02b\\n\\nmutual flux\\n\\nleakage primary flux\\n\\nSimilarly, for the secondary coil:\\n\\nsmLs\\uf066\\uf066\\uf066\\uf03d\\uf02b\\n\\nLeakage secondary flux\\n\\nReal transformer\\n\\nFrom the Faraday’s law, the primary coil’s voltage is:\\n\\n()()()pLpmpppppLpdddvtNNNetetdtdtdt\\uf066\\uf066\\uf066\\uf03d\\uf03d\\uf02b\\uf03d\\uf02b\\n\\nThe secondary coil’s voltage is:\\n\\n()()()smLssssssLsdddvtNNNetetdtdtdt\\uf066\\uf066\\uf066\\uf03d\\uf03d\\uf02b\\uf03d\\uf02b\\n\\nThe primary and secondary voltages due to the mutual flux are:\\n\\n()mppdetNdt\\uf066\\uf03d\\n\\n()LsssdetNdt\\uf066\\uf03d\\n\\nCombining the last two equations:\\n\\n()()pmspsetdetNdtN\\uf066\\uf03d\\uf03d\\n\\nReal transformer\\n\\nTherefore:\\n\\n()()ppssetNaetN\\uf03d\\uf03d\\n\\nThat is, the ratio of the primary voltage to the secondary voltage both caused by the mutual flux is equal to the turns ratio of the transformer.\\n\\nThe following approximation normally holds since the leakage flux is much smaller than the mutual flux;:\\n\\n()()ppssvtNavtN\\uf0bb\\uf0bb\\n\\nThe magnetization current in a real transformer\\n\\nEven when no load is connected to the secondary coil of the transformer, a current will flow in the primary coil. This current consists of:\\n\\n1. The magnetization current im is needed to produce the flux in the core; 2. The core-loss current ih+e corresponds to hysteresis and eddy current\\n\\nlosses.\\n\\nFlux causing the magnetization current\\n\\nTypical magnetization curve\\n\\nExcitation Current in a real transformer\\n\\ntotal excitation current in a transformer\\n\\nCore-loss current\\n\\nCore-loss current is: 1. Nonlinear due to nonlinear effects of hysteresis; 2. In phase with the voltage.\\n\\nThe total no-load current in the core is called the excitation current of the transformer:\\n\\nexmheiii\\uf02b\\uf03d\\uf02b\\n\\nThe current ratio on a transformer\\n\\nIf a load is connected to the secondary coil, there will be a current flowing through it.\\n\\nA current flowing into the dotted end of a winding produces a positive magnetomotive force F:\\n\\npppFNi\\uf03d\\n\\nsssFNi\\uf03d\\n\\nThe net magnetomotive force in the core is\\n\\nnetppssFNiNi\\uf066\\uf03d\\uf02d\\uf03d\\uf0c2\\n\\nFor well-designed transformer cores, the reluctance is very small if the core is not saturated. Therefore:\\n\\n1pspspspsiNiNaNiNi\\uf0bb\\uf020\\uf020\\uf020\\uf0de\\uf020\\uf020\\uf0bb\\uf03d\\uf020\\n\\n0netppssFNiNi\\uf03d\\uf02d\\uf0bb\\n\\nThe transformer’s equivalent circuit\\n\\nTo model a real transformer accurately, we need to account for the following losses:\\n\\n1. Copper losses – resistive heating in the windings: I2R. 2. Eddy current losses – resistive heating in the core: proportional to the square of voltage applied to the transformer.\\n\\n3. Hysteresis losses – energy needed to rearrange magnetic domains in the core: nonlinear function of the voltage applied to the transformer.\\n\\n4. Leakage flux – flux that escapes from the core and flux that\\n\\npasses through one winding only.\\n\\nThe exact equivalent circuit of a real transformer\\n\\nCooper losses are modeled by the resistors Rp and Rs. • The leakage flux can be modeled by primary and secondary inductors. • The magnetization current can be modeled by a reactance XM\\n\\nconnected across the primary voltage source.\\n\\nThe core-loss current can be modeled by a resistance RC connected\\n\\nacross the primary voltage source.\\n\\nBoth magnetizing and core loss currents are nonlinear; therefore, XM\\n\\nand RC are just approximations.\\n\\nThe exact equivalent circuit of a real transformer\\n\\nThe equivalent circuit is usually referred to the primary side or the secondary side of the transformer.\\n\\nEquivalent circuit of the transformer referred to its primary side.\\n\\nEquivalent circuit of the transformer referred to its secondary side.\\n\\nApproximate equivalent circuit of a transformer\\n\\nReferred to the secondary side.\\n\\nReferred to the primary side.\\n\\nWithout an excitation branch referred to the secondary side.\\n\\nWithout an excitation branch referred to the primary side.\\n\\nDetermining the values of components\\n\\nThe open-circuit test.\\n\\nFull line voltage is applied to the primary side of the transformer. The input voltage, current, and power are measured.\\n\\nFrom this information, the power factor of the input current and the magnitude and the angle of the excitation impedance can be determined.\\n\\nTo evaluate RC and XM, we define the conductance of the core-loss resistance and The susceptance of the magnetizing inductor :\\n\\n1CCGR\\uf03d\\n\\n1MMBX\\uf03d\\n\\nDetermining the values of components\\n\\nSince both elements are in parallel, their admittances add. Therefore, the total excitation admittance is:\\n\\n11ECMCMYGjBjRX\\uf03d\\uf02d\\uf03d\\uf02d\\n\\nThe magnitude of the excitation admittance in the open-circuit test is:\\n\\nocEocIYV\\uf03d\\n\\nThe angle of the admittance in the open-circuit test can be found from the circuit power factor (PF):\\n\\ncosocococPPFVI\\uf071\\uf03d\\uf03d\\n\\nDetermining the values of components\\n\\nIn real transformers, the power factor is always lagging, so the angle of the current always lags the angle of the voltage by \\uf071 degrees. The admittance is:\\n\\n1cosococEococIIYPFVV\\uf071\\uf02d\\uf03d\\uf0d0\\uf02d\\uf03d\\uf0d0\\uf02d\\n\\nTherefore, it is possible to determine values of RC and XM in the open-circuit test.\\n\\nDetermining the values of components\\n\\nThe short-circuit test:.\\n\\nFairly low input voltage is applied to the primary side of the transformer. This voltage is adjusted until the current in the secondary winding equals to its rated value.\\n\\nThe input voltage, current, and power are measured.\\n\\nSince the input voltage is low, the current flowing through the excitation branch is negligible; therefore, all the voltage drop in the transformer is due to the series elements in the circuit. The magnitude of the series impedance referred to the primary side of the transformer is:\\n\\nSCSESCVZI\\uf03d\\n\\nThe power factor of the current is given by:\\n\\ncosSCSCSCPPFVI\\uf071\\uf03d\\uf03d\\n\\nDetermining the values of components\\n\\nTherefore:\\n\\n0SCSCSESCSCVVZII\\uf071\\uf071\\uf0d0\\uf0b0\\uf03d\\uf03d\\uf0d0\\uf0b0\\uf0d0\\uf02d\\uf0b0\\n\\nSince the serial impedance ZSE is equal to\\n\\n\\uf028\\uf029\\uf028\\uf02922SEeqeqSEpSpSZRjXZRaRjXaX\\uf03d\\uf02b\\uf03d\\uf02b\\uf02b\\uf02b\\n\\nThe same tests can be performed on the secondary side of the transformer. The results will yield the equivalent circuit impedances referred to the secondary side of the transformer.\\n\\nExample\\n\\nExample 4.2: We need to determine the equivalent circuit impedances of a 20 kVA, 8000/240 V, 60 Hz transformer. The open-circuit and short-circuit tests led to the following data:\\n\\nVOC = 8000 V IOC = 0.214 A POC = 400 W\\n\\nVSC = 489 V ISC = 2.5 A PSC = 240 W\\n\\n11159;38.30.00000630.0000261CMRkXk\\uf03d\\uf03d\\uf020\\uf057\\uf020\\uf020\\uf020\\uf03d\\uf03d\\uf020\\uf057\\n\\n38.3;192eqeqRX\\uf03d\\uf020\\uf057\\uf020\\uf020\\uf020\\uf03d\\uf020\\uf057\\n\\nThe per-unit system\\n\\n1. Note that the apparent power rating (base) of a transformer is\\n\\nthe same for both the primary and secondary sides.\\n\\n2. On the other hand, the voltage rating (base) changes\\n\\naccording to its turn ratio.\\n\\n3. The impedance of the transformer is often given in pu.\\n\\nExample: a 110/440 V, 2.5 kVA transformer has a leakage\\n\\nreactance of 1.24% (or 0.0124 pu). Determine the Ohmic value when referred to the low-voltage side:\\n\\nAns. 60 mΩ.\\n\\nThe per-unit system: Example\\n\\nExample 4.4: Sketch the appropriate per-unit equivalent circuit for a 8000/240 V, 60 Hz, 20 kVA transformer with Rc = 159 k\\uf057, XM = 38.4 k\\uf057, Req = 38.3 \\uf057, Xeq = 192 \\uf057. All the impedance values are referred to the primary side To convert the transformer to per-unit system, the primary circuit base impedance needs to be found.\\n\\n1122111,,,8000;20000800032002000038.41920.0120.06320015900049.7320000123200basebasebasebasebaseSEpuCpuMpuVVSVAVZSjZjpuRpuXpu\\uf020\\uf020\\uf020\\uf020\\uf020\\uf03d\\uf020\\uf020\\uf020\\uf020\\uf020\\uf03d\\uf020\\uf020\\uf020\\uf03d\\uf03d\\uf03d\\uf020\\uf020\\uf057\\uf020\\uf02b\\uf03d\\uf03d\\uf02b\\uf020\\uf020\\uf020\\uf03d\\uf03d\\uf020\\uf020\\uf033\\uf038\\uf020\\uf034\\uf03d\\uf03d\\uf020\\uf020\\n\\nVoltage Regulation (VR)\\n\\nSince a real transformer contains series impedances, the transformer’s output voltage varies with the load even if the input voltage is constant. To compare transformers in this respect, the quantity called a full-load voltage regulation (VR) is defined as follows:\\n\\n,,,,,100%100%snlsflpsflsflsflVVVaVVRVV\\uf02d\\uf02d\\uf03d\\uf0d7\\uf03d\\uf0d7\\n\\nIn a per-unit system:\\n\\n,,,,,100%ppusflpusflpuVVVRV\\uf02d\\uf03d\\uf0d7\\n\\nWhere Vs,nl and Vs,fl are the secondary no load and full load voltages.\\n\\nNote: the VR of an ideal transformer is zero under any load condition.\\n\\nTransformer phasor diagram\\n\\nTo determine the VR of a transformer, it is necessary to understand the voltage drops within it. Usually, the effects of the excitation branch on transformer VR can be ignored and, therefore, only the series impedances need to be considered. The VR depends on the magnitude of the impedances and on the current phase angle.\\n\\nA phasor diagram is often used in the VR determinations. The phasor voltage Vs is assumed to be at 00 and all other voltages and currents are compared to it.\\n\\nConsidering the diagram and by applying the Kirchhoff’s voltage law, the primary voltage is:\\n\\npseqseqsVVRIjXIa\\uf03d\\uf02b\\uf02b\\n\\nA transformer phasor diagram is a graphical representation of this equation.\\n\\nTransformer phasor diagram\\n\\nA transformer operating at a lagging power factor:\\n\\nIt is seen that Vp/a > Vs, VR > 0\\n\\nA transformer operating at a unity power factor:\\n\\nIt is seen that VR > 0\\n\\nA transformer operating at a leading power factor:\\n\\nIf the secondary current is leading, the secondary voltage can be higher than the referred primary voltage; VR < 0.\\n\\nTransformer efficiency\\n\\nThe efficiency of a transformer is defined as:\\n\\n100%100%outoutinoutlossPPPPP\\uf068\\uf03d\\uf0d7\\uf03d\\uf0d7\\uf02b\\n\\nNote: the same equation describes the efficiency of motors and generators.\\n\\nConsidering the transformer equivalent circuit, we notice three types of losses:\\n\\n1. Copper (I2R) losses – are accounted for by the series resistance\\n\\n2. Hysteresis and eddy current losses – are accounted for by the resistor Rc.\\n\\ncosoutsssPVI\\uf071\\uf03d\\n\\nSince the output power is\\n\\ncos100%cosssCucoressVIPPVI\\uf071\\uf068\\uf071\\uf03d\\uf0d7\\uf02b\\uf02b\\n\\nThe transformer efficiency is\\n\\nThe transformer efficiency: Example\\n\\nExample 4.5: A 15 kVA, 2300/230 V transformer was tested to by open-circuit and closed-circuit tests. The following data was obtained:\\n\\nVOC = 2300 V IOC = 0.21 A POC = 50 W\\n\\nVSC = 47 V ISC = 6.0 A PSC = 160 W\\n\\na) Find the equivalent circuit of this transformer referred to the high-voltage side.\\n\\nb) Find the equivalent circuit of this transformer referred to the low-voltage side.\\n\\nc) Calculate the full-load voltage regulation at 0.8 lagging power factor, at 1.0\\n\\npower factor, and at 0.8 leading power factor.\\n\\nd) Plot the voltage regulation as load is increased from no load to full load at\\n\\npower factors of 0.8 lagging, 1.0, and 0.8 leading.\\n\\ne) What is the efficiency of the transformer at full load with a power factor of 0.8\\n\\nlagging?\\n\\nThe transformer efficiency: Example\\n\\n100%98.03%outCucoreoutPPPP\\uf068\\uf03d\\uf0d7\\uf03d\\uf02b\\uf02b\\n\\nTransformer taps and voltage regulation\\n\\nWe assumed before that the transformer turns ratio is a fixed (constant) for the given transformer. Frequently, distribution transformers have a series of taps in the windings to permit small changes in their turns ratio. Typically, transformers may have 4 taps in addition to the nominal setting with spacing of 2.5 % of full-load voltage. Therefore, adjustments up to 5 % above or below the nominal voltage rating of the transformer are possible.\\n\\nExample 4.6: A 500 kVA, 13 200/480 V transformer has four 2.5 % taps on its primary winding. What are the transformer’s voltage ratios at each tap setting?\\n\\n+ 5.0% tap + 2.5% tap Nominal rating - 2.5% tap - 5.0% tap\\n\\n13 860/480 V 13 530/480 V 13 200/480 V 12 870/480 V 12 540/480 V\\n\\nAns:\\n\\nTransformer taps and voltage regulation\\n\\nTaps allow adjustment of the transformer in the field to accommodate for local voltage variations.\\n\\n\\n\\nSometimes, transformers are used on a power line, whose\\n\\nvoltage varies widely with the load (due to high line impedance, for instance). Normal loads need fairly constant input voltage though\\n\\nOne possible solution to this problem is to use a special transformer called a tap changing under load (TCUL) transformer or voltage regulator. TCUL is a transformer with the ability to change taps while power is connected to it. A voltage regulator is a TCUL with build-in voltage sensing circuitry that automatically changes taps to keep the system voltage constant. These “self-adjusting” transformers are very common in modern power systems.\\n\\n\\n\\nThe autotransformer\\n\\nSometimes, it is desirable to change the voltage by a small amount (for instance, when the consumer is far away from the generator and it is needed to raise the voltage to compensate for voltage drops). In such situations, it would be expensive to wind a transformer with two windings of approximately equal number of turns. An autotransformer (a transformer with only one winding) is used instead. Diagrams of step-up and step-down autotransformers:\\n\\nSeries winding\\n\\nSeries winding\\n\\nCommon winding\\n\\nCommon winding\\n\\nOutput (up) or input (down) voltage is a sum of voltages across common and series windings.\\n\\nThe autotransformer\\n\\nSince the autotransformer’s coils are physically connected, a different terminology is used for autotransformers: The voltage across the common winding is called a common voltage VC, and the current through this coil is called a common current IC. The voltage across the series winding is called a series voltage VSE, and the current through that coil is called a series current ISE. The voltage and current on the low-voltage side are called VL and IL; the voltage and current on the high-voltage side are called VH and IH. For the autotransformers:\\n\\nCLHCSENVVNN\\uf03d\\uf02b\\n\\nCSELHCNNIIN\\uf02b\\uf03d\\n\\nCCSESEVNVN\\uf03d\\n\\nCCSESENINI\\uf03d\\n\\nThe apparent power advantage\\n\\nThe ratio of the apparent power in the primary and secondary of the autotransformer to the apparent power actually traveling through its windings is\\n\\nIOSECWSESNNSN\\uf02b\\uf03d\\n\\nThe last equation described the apparent power rating advantage of an autotransformer over a conventional transformer.\\n\\nSW is the apparent power actually passing through the windings. The rest passes from primary to secondary parts without being coupled through the windings.\\n\\nNote that the smaller the series winding, the greater the advantage!\\n\\nThe apparent power advantage\\n\\nFor example, a 5 MVA autotransformer that connects a 110 kV system to a 138 kV system would have a turns ratio (common to series) 110:28. Such an autotransformer would actually have windings rated at:\\n\\n2851.01528110SEWIOSECNSSMVANN\\uf03d\\uf03d\\uf0d7\\uf03d\\uf020\\uf020\\uf02b\\uf02b\\n\\nTherefore, the autotransformer would have windings rated at slightly over 1 MVA instead of 5 MVA, which makes is 5 times smaller and, therefore, considerably less expensive.\\n\\nHowever, the construction of autotransformers is usually slightly different. In particular, the insulation on the smaller coil (the series winding) of the autotransformer is made as strong as the insulation on the larger coil to withstand the full output voltage. The primary disadvantage of an autotransformer is that there is a direct physical connection between its primary and secondary circuits. Therefore, the electrical isolation of two sides is lost.\\n\\n3-phase transformers\\n\\nThe majority of the power generation/distribution systems in the world are 3- phase systems. The transformers for such circuits can be constructed either as a 3-phase bank of independent identical transformers (can be replaced independently) or as a single transformer wound on a single 3-legged core (lighter, cheaper, more efficient).\\n\\n3-phase transformer connections\\n\\nWe assume that any single transformer in a 3-phase transformer (bank) behaves exactly as a single-phase transformer. The impedance, voltage regulation, efficiency, and other calculations for 3-phase transformers are done on a per-phase basis, using the techniques studied previously for single-phase transformers.\\n\\nFour possible connections for a 3-phase transformer bank are:\\n\\n1. Y-Y 2. Y-\\uf044 3. \\uf044- \\uf044 4. \\uf044-Y\\n\\n3-phase transformer connections\\n\\n1. Y-Y connection:\\n\\nThe primary voltage on each phase of the transformer is\\n\\n3LPPVV\\uf066\\uf03d\\n\\nThe secondary phase voltage is\\n\\n3LSSVV\\uf066\\uf03d\\n\\nThe overall voltage ratio is\\n\\n33PLPLSSVVaVV\\uf066\\uf066\\uf03d\\uf03d\\n\\n3-phase transformer connections\\n\\n4. \\uf044 - \\uf044 connection:\\n\\nThe primary voltage on each phase of the transformer is\\n\\nPLPVV\\uf066\\uf03d\\n\\nThe secondary phase voltage is\\n\\nLSSVV\\uf066\\uf03d\\n\\nThe overall voltage ratio is\\n\\nPLPLSSVVaVV\\uf066\\uf066\\uf03d\\uf03d\\n\\nNo phase shift, no problems with unbalanced loads or harmonics.\\n\\n3-phase transformer connections\\n\\n3. \\uf044 -Y connection:\\n\\nThe primary voltage on each phase of the transformer is\\n\\nPLPVV\\uf066\\uf03d\\n\\nThe secondary phase voltage is\\n\\n3LSSVV\\uf066\\uf03d\\n\\nThe overall voltage ratio is\\n\\n33PLPLSSVVaVV\\uf066\\uf066\\uf03d\\uf03d\\n\\nThe same advantages and the same phase shift as the Y-\\uf044 connection.\\n\\nTransferring Ohmic Values of Per-Phase Impedances\\n\\nPhase Shifts and Equivalent Circuits • When stepping up the voltage in a Y-Δ or Δ-Y transformer, the positive sequence voltages and currents are advanced by 30o.\\n\\nPer-Unit Impedances in 3-Winding Transformer\\n\\nFictitious neutral point\\n\\nZp, Zs, and Zt, are the impedances of the primary, secondary, and tertiary windings, respectively, referred to the primary circuit. if Zps, Zpt, and Zst, are the measured impedances referred to the primary circuit, then\\n\\nRegulating Transformers for Control of Voltage Magnitude and Phase\\n\\nControl of Voltage Magnitude\\n\\nControl of Voltage Phase Angle\\n\\nExample (refer to book)\\n\\nCase 0: Two parallel transformers with the same turn ratio and same rating. → the transformers share the load equally\\n\\nCase 1: Tb is providing a voltage ratio 5% higher than Ta. → The transformer with the higher tap setting is supplying most of the reactive power to the load.\\n\\nCase 2: Tb is a regulating transformer with a phase shift of 3o. → The phase shifting transformer is supplying most of the real power to the load.\\n\\nTransformers Operating in Parallel\\n\\n\\n\\nExample: a 100 kVA transformer (with X= 4%) is connected in parallel with an existing 250 kVA transformer (with X = 6%). The transformers are rated at 7200V/240V, and they supply a load of 330 kVA at nominal voltage. Calculate the following: 1.\\n\\nThe nominal secondary current of each transformer: (Ans. 416.7 A and 1,041A) The current and impedance of the load (Ans. 1,375 A and 174.5 mΩ) The impedance of each transformer when referred to the secondary side: (Ans. 23 mΩ and 13.8 mΩ) The current flow through each transformer secondary winding (Ans. 515.6A and 859.4)\\n\\n2. 3.\\n\\n4.\\n\\n5. Which transformer, if any, is overloaded? (Ans. The smaller transformer is\\n\\ncarrying 124 kVA – nearly a 25% overload!)\\n\\nTransformer ratings: Voltage and Frequency\\n\\nThe voltage rating is a) used to protect the winding insulation from breakdown; b) related to the magnetization current of the transformer (more important)\\n\\nflux\\n\\nIf a steady-state voltage\\n\\n()sinMvtVt\\uf077\\uf03d\\n\\nis applied to the transformer’s primary winding, the transformer’s flux will be\\n\\n()c)o1s(MppvtdVttNtN\\uf066\\uf077\\uf077\\uf03d\\uf03d\\uf02d\\uf0f2\\n\\nMagnetization current\\n\\nAn increase in voltage will lead to a proportional increase in flux. However, after some point (in a saturation region), such increase in flux would require an unacceptable increase in magnetization current!\\n\\nTransformer ratings: Voltage and Frequency\\n\\nTherefore, the maximum applied voltage (and thus the rated voltage) is set by the maximum acceptable magnetization current in the core.\\n\\nWe notice that the maximum flux is also related to the frequency:\\n\\nmaxmaxpVN\\uf066\\uf077\\uf03d\\n\\nTherefore, to maintain the same maximum flux, a change in frequency (say, 50 Hz instead of 60 Hz) must be accompanied by the corresponding correction in the maximum allowed voltage. This reduction in applied voltage with frequency is called derating. As a result, a 50 Hz transformer may be operated at a 20% higher voltage on 60 Hz if this would not cause insulation damage.\\n\\nTransformer ratings: Apparent Power\\n\\nThe apparent power rating sets (together with the voltage rating) the current through the windings. The current determines the i2R losses and, therefore, the heating of the coils.\\n\\nOverheating shortens the life of transformer’s insulation. Under any circumstances, the temperature of the windings must be limited.\\n\\nA typical power transformer rating would be OA/FA/FOA where • •\\n\\nThe OA (open-air) rating is the base power rating. The FA (forced-air) rating is the power carrying capability when forced air cooling (fans) are used. The FOA (forced-oil-air) rating is the power carrying capability when forced air cooling (fans) are used in addition to oil circulating pumps.\\n\\n\\n\\nEach cooling method provides nearly an additional 1/3 capability. For example, a common substation transformer is rated at 21/28/35 MVA.\\n\\nTransformer ratings: Current inrush\\n\\nAssuming that the following voltage is applied to the transformer at the moment it is connected to the line:\\n\\n\\uf028\\uf029()sinMvtVt\\uf077\\uf071\\uf03d\\uf02b\\n\\nThe maximum flux reached on the first half-cycle depends on the phase of the voltage at the instant the voltage is applied. If the initial voltage is\\n\\n\\uf028\\uf029()sin90cosMMvtVtVt\\uf077\\uf077\\uf03d\\uf02b\\uf0b0\\uf03d\\n\\nand the initial flux in the core is zero, the maximum flux during the first half-cycle is equals to the maximum steady-state flux (which is ok):\\n\\nmaxMpVN\\uf066\\uf077\\uf03d\\n\\nHowever, if the voltage’s initial phase is zero, i.e.\\n\\n\\uf028\\uf029()sinMvtVt\\uf077\\uf03d\\n\\nTransformer ratings: Current inrush\\n\\nthe maximum flux during the first half-cycle will be\\n\\n0max01si2ncosMMMpppVVtdttNNVN\\uf070\\uf077\\uf070\\uf077\\uf077\\uf077\\uf066\\uf077\\uf077\\uf03d\\uf02d\\uf03d\\uf03d\\uf0f2\\n\\n\\uf028\\uf029\\n\\n\\uf028\\uf029\\n\\nWhich is twice higher than a normal steady-state flux!\\n\\nDoubling the maximum flux in the core can bring the core in a saturation and, therefore, may result in a huge magnetization current!\\n\\nNormally, the voltage phase angle cannot be controlled. As a result, a large inrush current is possible during the first several cycles after the transformer is turned ON.\\n\\nThe transformer and the power system must be able to handle these currents.\\n\\nPractice Problems (Chap. 2)\\n\\n6, 8, 13, 15, 19, 21, 23.\", metadata={'source': 'pdf_files\\\\TRANSFORMERS.pdf'})]"
      ]
     },
     "execution_count": 4,
     "metadata": {},
     "output_type": "execute_result"
    }
   ],
   "source": [
    "documents"
   ]
  },
  {
   "cell_type": "code",
   "execution_count": null,
   "id": "3931b6dd-2a56-45ca-be63-e8af28d56b77",
   "metadata": {},
   "outputs": [],
   "source": []
  },
  {
   "cell_type": "code",
   "execution_count": 15,
   "id": "010930c0-9e47-41eb-bea3-d235621cbcab",
   "metadata": {},
   "outputs": [],
   "source": [
    "from langchain.text_splitter import RecursiveCharacterTextSplitter"
   ]
  },
  {
   "cell_type": "code",
   "execution_count": 16,
   "id": "5ceca9ae-795f-4c29-a326-6f4211056fe9",
   "metadata": {},
   "outputs": [],
   "source": [
    "text_splitter = RecursiveCharacterTextSplitter(chunk_size=500, chunk_overlap=50)\n",
    "texts = text_splitter.split_documents(documents)"
   ]
  },
  {
   "cell_type": "code",
   "execution_count": null,
   "id": "60b95a78-d560-47f2-b7a1-747baefc6f52",
   "metadata": {},
   "outputs": [],
   "source": []
  },
  {
   "cell_type": "markdown",
   "id": "abe16d76-6e60-494e-83e3-5307a0ba56ff",
   "metadata": {},
   "source": [
    "## 3. Load OpenAI Embeddings"
   ]
  },
  {
   "cell_type": "code",
   "execution_count": 5,
   "id": "b6db85e4-fc12-449c-9e15-a54fe65445a1",
   "metadata": {},
   "outputs": [],
   "source": [
    "from langchain.embeddings import OpenAIEmbeddings"
   ]
  },
  {
   "cell_type": "code",
   "execution_count": 6,
   "id": "94f5d2ed-4b4c-4776-8fe5-99a6350db3c6",
   "metadata": {},
   "outputs": [],
   "source": [
    "embeddings = OpenAIEmbeddings(openai_api_key=apikey)"
   ]
  },
  {
   "cell_type": "code",
   "execution_count": null,
   "id": "d891cdc9-1469-48a9-a0d6-60a31ae989e8",
   "metadata": {},
   "outputs": [],
   "source": []
  },
  {
   "cell_type": "markdown",
   "id": "eddf9c07-2db5-4319-8939-9489c5b056aa",
   "metadata": {},
   "source": [
    "## 4. Load OpenAI LLM"
   ]
  },
  {
   "cell_type": "code",
   "execution_count": 7,
   "id": "173a2b3f-749a-4c2e-9684-f83530c2ceff",
   "metadata": {},
   "outputs": [],
   "source": [
    "from langchain.llms import OpenAI"
   ]
  },
  {
   "cell_type": "code",
   "execution_count": 8,
   "id": "b073a21c-831b-42b8-8511-d3e7a3afd71d",
   "metadata": {},
   "outputs": [],
   "source": [
    "llm = OpenAI(openai_api_key=apikey, openai_organization=organization)"
   ]
  },
  {
   "cell_type": "code",
   "execution_count": null,
   "id": "fc2a0595-17fb-413e-87e2-f31dde054da9",
   "metadata": {},
   "outputs": [],
   "source": []
  },
  {
   "cell_type": "markdown",
   "id": "ac1b19e0-9f10-4f7c-bf94-63cd54f7a87c",
   "metadata": {},
   "source": [
    "## 5. Create index"
   ]
  },
  {
   "cell_type": "code",
   "execution_count": 9,
   "id": "f0abfcee-1231-4a16-bf05-ab6bae641bd4",
   "metadata": {},
   "outputs": [],
   "source": [
    "from langchain.vectorstores import Chroma"
   ]
  },
  {
   "cell_type": "code",
   "execution_count": 17,
   "id": "31dec995-25a4-455e-9ff2-ec045a7f6ac6",
   "metadata": {},
   "outputs": [],
   "source": [
    "db = Chroma.from_documents(texts, embeddings)"
   ]
  },
  {
   "cell_type": "code",
   "execution_count": null,
   "id": "9983929e-96d1-4691-87b1-7342f4eab98c",
   "metadata": {},
   "outputs": [],
   "source": []
  },
  {
   "cell_type": "markdown",
   "id": "7b60879d-4f43-445a-880e-f0967bc62ca2",
   "metadata": {},
   "source": [
    "## 6. Create retriever from index and chain it with LLM"
   ]
  },
  {
   "cell_type": "code",
   "execution_count": 18,
   "id": "04367058-c6ec-4272-9644-74924e4c9c65",
   "metadata": {},
   "outputs": [],
   "source": [
    "retriever = db.as_retriever()"
   ]
  },
  {
   "cell_type": "code",
   "execution_count": 19,
   "id": "6ac6baed-d418-4a6c-9ed5-902702bcc2a6",
   "metadata": {},
   "outputs": [],
   "source": [
    "from langchain.chains import RetrievalQAWithSourcesChain"
   ]
  },
  {
   "cell_type": "code",
   "execution_count": 20,
   "id": "0ebbc7cf-9dfe-4298-9c34-7fc72e3ced14",
   "metadata": {},
   "outputs": [],
   "source": [
    "qa = RetrievalQAWithSourcesChain.from_chain_type(llm=llm, retriever=retriever)"
   ]
  },
  {
   "cell_type": "code",
   "execution_count": null,
   "id": "79351fd6-6c9e-4bc3-88da-e2805f687a88",
   "metadata": {},
   "outputs": [],
   "source": []
  },
  {
   "cell_type": "markdown",
   "id": "86f0dcf8-9a8b-41f8-a4bf-a7cad11940c3",
   "metadata": {},
   "source": [
    "## 7. Query the chain"
   ]
  },
  {
   "cell_type": "code",
   "execution_count": 24,
   "id": "ef997d4f-4a6c-4d13-a9fd-413a5ae49c59",
   "metadata": {},
   "outputs": [
    {
     "data": {
      "text/plain": [
       "{'question': 'solutions to Climate Change?',\n",
       " 'answer': ' Solutions to Climate Change include switching energy systems from fossil fuels to renewables, reducing emissions by 2050, providing financial investments by governments and businesses, and adapting to climate impacts.\\n',\n",
       " 'sources': 'pdf_files\\\\fastfacts-what-is-climate-change.pdf'}"
      ]
     },
     "execution_count": 24,
     "metadata": {},
     "output_type": "execute_result"
    }
   ],
   "source": [
    "question = \"solutions to Climate Change?\"\n",
    "generated_text = qa(question)\n",
    "generated_text"
   ]
  },
  {
   "cell_type": "code",
   "execution_count": 23,
   "id": "37dccb73-0a6c-40fa-b2ab-5a550d4d7d40",
   "metadata": {},
   "outputs": [
    {
     "data": {
      "text/plain": [
       "{'question': 'What is Impedance transformation ?',\n",
       " 'answer': ' Impedance transformation refers to the process of changing the apparent impedance of a load by using a transformer.\\n',\n",
       " 'sources': 'pdf_files\\\\TRANSFORMERS.pdf'}"
      ]
     },
     "execution_count": 23,
     "metadata": {},
     "output_type": "execute_result"
    }
   ],
   "source": [
    "question = \"What is Impedance transformation ?\"\n",
    "generated_text = qa(question)\n",
    "generated_text"
   ]
  },
  {
   "cell_type": "code",
   "execution_count": null,
   "id": "5d039e20-5538-437e-8453-c7be9859bc2a",
   "metadata": {},
   "outputs": [],
   "source": []
  },
  {
   "cell_type": "code",
   "execution_count": null,
   "id": "5ade1511-a5aa-4ba0-9a8a-e94b82f6f72b",
   "metadata": {},
   "outputs": [],
   "source": []
  },
  {
   "cell_type": "code",
   "execution_count": null,
   "id": "b509238a-b206-42be-becf-97928eee88fe",
   "metadata": {},
   "outputs": [],
   "source": []
  }
 ],
 "metadata": {
  "kernelspec": {
   "display_name": "Python 3 (ipykernel)",
   "language": "python",
   "name": "python3"
  },
  "language_info": {
   "codemirror_mode": {
    "name": "ipython",
    "version": 3
   },
   "file_extension": ".py",
   "mimetype": "text/x-python",
   "name": "python",
   "nbconvert_exporter": "python",
   "pygments_lexer": "ipython3",
   "version": "3.10.0"
  }
 },
 "nbformat": 4,
 "nbformat_minor": 5
}
