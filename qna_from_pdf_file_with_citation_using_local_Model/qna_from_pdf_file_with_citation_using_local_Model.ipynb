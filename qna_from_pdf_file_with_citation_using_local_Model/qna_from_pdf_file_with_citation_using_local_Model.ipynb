{
 "cells": [
  {
   "cell_type": "markdown",
   "id": "cad301d5-06a3-4e71-b36a-4017f5b1ca24",
   "metadata": {},
   "source": [
    "## 1. Set your Embedding model and LLM model"
   ]
  },
  {
   "cell_type": "code",
   "execution_count": 3,
   "id": "2955cf1a-3284-4cb6-adbd-7063a0f00d16",
   "metadata": {},
   "outputs": [],
   "source": [
    "Embedding_Model = \"hkunlp/instructor-xl\""
   ]
  },
  {
   "cell_type": "code",
   "execution_count": 4,
   "id": "46d795ad-ca0e-4849-bbc9-6b4024bed7b3",
   "metadata": {},
   "outputs": [],
   "source": [
    "LLM_Model = \"google/flan-t5-large\""
   ]
  },
  {
   "cell_type": "markdown",
   "id": "c1dcad2f-b203-4cf0-a2a8-edb3db8926d3",
   "metadata": {},
   "source": [
    "## 2. load text files"
   ]
  },
  {
   "cell_type": "code",
   "execution_count": 5,
   "id": "5bbfd6fd-dd70-4fa3-97d9-d2ea1b70656c",
   "metadata": {},
   "outputs": [],
   "source": [
    "from langchain.document_loaders import DirectoryLoader"
   ]
  },
  {
   "cell_type": "code",
   "execution_count": 6,
   "id": "590611ec-c917-4c5d-aab2-f8c5da266897",
   "metadata": {},
   "outputs": [],
   "source": [
    "document_directory = \"pdf_files\"\n",
    "loader = DirectoryLoader(document_directory)\n",
    "documents = loader.load()"
   ]
  },
  {
   "cell_type": "code",
   "execution_count": null,
   "id": "3931b6dd-2a56-45ca-be63-e8af28d56b77",
   "metadata": {},
   "outputs": [],
   "source": [
    "#documents"
   ]
  },
  {
   "cell_type": "code",
   "execution_count": null,
   "id": "44bd8afb-27af-414a-ad93-cd14862648e9",
   "metadata": {},
   "outputs": [],
   "source": []
  },
  {
   "cell_type": "code",
   "execution_count": 8,
   "id": "b56171cb-26b5-4fed-836e-0f20e7db92ff",
   "metadata": {},
   "outputs": [],
   "source": [
    "from langchain.text_splitter import RecursiveCharacterTextSplitter"
   ]
  },
  {
   "cell_type": "code",
   "execution_count": 9,
   "id": "cd672380-96cb-48aa-9f13-cc1a8787ff1d",
   "metadata": {},
   "outputs": [],
   "source": [
    "text_splitter = RecursiveCharacterTextSplitter(chunk_size=500, chunk_overlap=50)\n",
    "texts = text_splitter.split_documents(documents)"
   ]
  },
  {
   "cell_type": "code",
   "execution_count": null,
   "id": "88eb5899-1259-47df-b91e-8dc6119289e5",
   "metadata": {},
   "outputs": [],
   "source": []
  },
  {
   "cell_type": "markdown",
   "id": "abe16d76-6e60-494e-83e3-5307a0ba56ff",
   "metadata": {},
   "source": [
    "## 3. Load Embeddings"
   ]
  },
  {
   "cell_type": "code",
   "execution_count": 10,
   "id": "b6db85e4-fc12-449c-9e15-a54fe65445a1",
   "metadata": {},
   "outputs": [],
   "source": [
    "from langchain.embeddings import HuggingFaceInstructEmbeddings"
   ]
  },
  {
   "cell_type": "code",
   "execution_count": null,
   "id": "cc9eda13-690c-4c0f-8318-db130a029578",
   "metadata": {},
   "outputs": [],
   "source": [
    "instructor_embeddings = HuggingFaceInstructEmbeddings(model_name=Embedding_Model)"
   ]
  },
  {
   "cell_type": "code",
   "execution_count": null,
   "id": "2955a9cc-589b-4053-98a7-0ce46782644d",
   "metadata": {},
   "outputs": [],
   "source": [
    "text = \"This is a test document.\"\n",
    "query_result = instructor_embeddings.embed_query(text)"
   ]
  },
  {
   "cell_type": "code",
   "execution_count": null,
   "id": "53936641-f541-4237-865d-7882f69dd522",
   "metadata": {},
   "outputs": [],
   "source": [
    "query_result"
   ]
  },
  {
   "cell_type": "code",
   "execution_count": null,
   "id": "d4555854-ddd7-4fdd-96d1-c76772b28632",
   "metadata": {},
   "outputs": [],
   "source": []
  },
  {
   "cell_type": "markdown",
   "id": "eddf9c07-2db5-4319-8939-9489c5b056aa",
   "metadata": {},
   "source": [
    "## 4. Load LLM"
   ]
  },
  {
   "cell_type": "code",
   "execution_count": 13,
   "id": "173a2b3f-749a-4c2e-9684-f83530c2ceff",
   "metadata": {},
   "outputs": [],
   "source": [
    "import torch\n",
    "import transformers\n",
    "from transformers import AutoTokenizer, AutoModelForSeq2SeqLM"
   ]
  },
  {
   "cell_type": "code",
   "execution_count": 14,
   "id": "b073a21c-831b-42b8-8511-d3e7a3afd71d",
   "metadata": {},
   "outputs": [],
   "source": [
    "tokenizer = AutoTokenizer.from_pretrained(LLM_Model)\n",
    "model = AutoModelForSeq2SeqLM.from_pretrained(LLM_Model, torch_dtype=torch.float32)"
   ]
  },
  {
   "cell_type": "code",
   "execution_count": 15,
   "id": "fc2a0595-17fb-413e-87e2-f31dde054da9",
   "metadata": {},
   "outputs": [],
   "source": [
    "from transformers import pipeline\n",
    "from langchain.llms import HuggingFacePipeline\n",
    "\n",
    "pipe = pipeline(\n",
    "    \"text2text-generation\",\n",
    "    model=model, \n",
    "    tokenizer=tokenizer, \n",
    "    max_length=512,\n",
    "    temperature=0,\n",
    "    top_p=0.95,\n",
    "    repetition_penalty=1.15\n",
    ")\n",
    "\n",
    "llm = HuggingFacePipeline(pipeline=pipe)"
   ]
  },
  {
   "cell_type": "code",
   "execution_count": 16,
   "id": "fd6301fb-60b2-450e-b207-3768cb43f44f",
   "metadata": {},
   "outputs": [
    {
     "name": "stdout",
     "output_type": "stream",
     "text": [
      "calcutta\n"
     ]
    }
   ],
   "source": [
    "print(llm('What is the capital of India?'))"
   ]
  },
  {
   "cell_type": "code",
   "execution_count": null,
   "id": "6467483f-cde7-4498-9e0e-b4dc29ffb110",
   "metadata": {},
   "outputs": [],
   "source": []
  },
  {
   "cell_type": "markdown",
   "id": "ac1b19e0-9f10-4f7c-bf94-63cd54f7a87c",
   "metadata": {},
   "source": [
    "## 5. Create index"
   ]
  },
  {
   "cell_type": "code",
   "execution_count": 17,
   "id": "f0abfcee-1231-4a16-bf05-ab6bae641bd4",
   "metadata": {},
   "outputs": [],
   "source": [
    "from langchain.vectorstores import Chroma"
   ]
  },
  {
   "cell_type": "code",
   "execution_count": 18,
   "id": "31dec995-25a4-455e-9ff2-ec045a7f6ac6",
   "metadata": {},
   "outputs": [],
   "source": [
    "persist_directory = 'db'\n",
    "db = Chroma.from_documents(documents=texts, \n",
    "                                 embedding=instructor_embeddings,\n",
    "                                 persist_directory=persist_directory)"
   ]
  },
  {
   "cell_type": "code",
   "execution_count": null,
   "id": "57bfc664-4891-44f2-aee2-2fd535904c88",
   "metadata": {},
   "outputs": [],
   "source": []
  },
  {
   "cell_type": "markdown",
   "id": "7b60879d-4f43-445a-880e-f0967bc62ca2",
   "metadata": {},
   "source": [
    "## 6. Create retriever from index and chain it with LLM"
   ]
  },
  {
   "cell_type": "code",
   "execution_count": 19,
   "id": "04367058-c6ec-4272-9644-74924e4c9c65",
   "metadata": {},
   "outputs": [],
   "source": [
    "#retriever = db.as_retriever()\n",
    "retriever = db.as_retriever(search_kwargs={\"k\": 3})"
   ]
  },
  {
   "cell_type": "code",
   "execution_count": 20,
   "id": "71421ea9-8052-4226-9ce1-ebae07d030f3",
   "metadata": {},
   "outputs": [],
   "source": [
    "from langchain.chains import RetrievalQA"
   ]
  },
  {
   "cell_type": "code",
   "execution_count": 21,
   "id": "79351fd6-6c9e-4bc3-88da-e2805f687a88",
   "metadata": {},
   "outputs": [],
   "source": [
    "qa = RetrievalQA.from_chain_type(llm=llm, \n",
    "                                  chain_type=\"stuff\", \n",
    "                                  retriever=retriever, \n",
    "                                  return_source_documents=True)"
   ]
  },
  {
   "cell_type": "markdown",
   "id": "86f0dcf8-9a8b-41f8-a4bf-a7cad11940c3",
   "metadata": {},
   "source": [
    "## 7. Query the chain"
   ]
  },
  {
   "cell_type": "code",
   "execution_count": 23,
   "id": "a154ad74-aeea-4d1d-8643-6044549dd227",
   "metadata": {},
   "outputs": [
    {
     "data": {
      "text/plain": [
       "{'query': 'solutions to Climate Change?',\n",
       " 'result': 'Switching energy systems from fossil fuels to renewables',\n",
       " 'source_documents': [Document(page_content='10. Switching energy systems from fossil fuels to renewables like solar will reduce the emissions driving climate change. But we have to start right now. While a growing coalition of countries is committing to net zero emissions by 2050, about half of emissions cuts must be in place by 2030 to keep warming below 1.5°C. Fossil fuel production must decline by roughly 6 per cent per year between 2020 and 2030.', metadata={'source': 'pdf_files\\\\fastfacts-what-is-climate-change.pdf'}),\n",
       "  Document(page_content='9. Climate change is a huge challenge, but we already know many solutions. These can deliver economic benefits while improving our lives and protecting the environment. We also have global agreements to guide progress, such as the UN Framework Convention on Climate Change and the Paris Agreement. Three broad categories of action are: cut emissions, adapt to climate impacts and finance required adjustments.', metadata={'source': 'pdf_files\\\\fastfacts-what-is-climate-change.pdf'}),\n",
       "  Document(page_content='FAST FACTS FAST FACTS\\n\\nWhat Is Climate Change?\\n\\n1. Climate change can be a natural process where temperature, rainfall, wind and other elements vary over decades or more. In millions of years, our world has been warmer and colder than it is now. But today we are experiencing rapid warming from human activities, primarily due to burning fossil fuels that generate greenhouse gas emissions.', metadata={'source': 'pdf_files\\\\fastfacts-what-is-climate-change.pdf'})]}"
      ]
     },
     "execution_count": 23,
     "metadata": {},
     "output_type": "execute_result"
    }
   ],
   "source": [
    "question = \"solutions to Climate Change?\"\n",
    "generated_text = qa(question)\n",
    "generated_text"
   ]
  },
  {
   "cell_type": "code",
   "execution_count": null,
   "id": "0e466d6f-55e9-469d-a86f-e4258ae1772b",
   "metadata": {},
   "outputs": [],
   "source": []
  },
  {
   "cell_type": "code",
   "execution_count": 24,
   "id": "a2e36c8c-8d1b-4225-9011-d9d02bde077e",
   "metadata": {},
   "outputs": [
    {
     "data": {
      "text/plain": [
       "'Switching energy systems from fossil fuels to renewables'"
      ]
     },
     "execution_count": 24,
     "metadata": {},
     "output_type": "execute_result"
    }
   ],
   "source": [
    "generated_text[\"result\"]"
   ]
  },
  {
   "cell_type": "code",
   "execution_count": 25,
   "id": "37dccb73-0a6c-40fa-b2ab-5a550d4d7d40",
   "metadata": {},
   "outputs": [
    {
     "data": {
      "text/plain": [
       "'pdf_files\\\\fastfacts-what-is-climate-change.pdf'"
      ]
     },
     "execution_count": 25,
     "metadata": {},
     "output_type": "execute_result"
    }
   ],
   "source": [
    "generated_text[\"source_documents\"][0].metadata['source']"
   ]
  },
  {
   "cell_type": "code",
   "execution_count": 26,
   "id": "10fc8969-8650-479e-a7a4-759189190c1c",
   "metadata": {},
   "outputs": [
    {
     "data": {
      "text/plain": [
       "{'query': 'solutions to Climate Change?',\n",
       " 'result': 'Switching energy systems from fossil fuels to renewables',\n",
       " 'source_documents': [Document(page_content='10. Switching energy systems from fossil fuels to renewables like solar will reduce the emissions driving climate change. But we have to start right now. While a growing coalition of countries is committing to net zero emissions by 2050, about half of emissions cuts must be in place by 2030 to keep warming below 1.5°C. Fossil fuel production must decline by roughly 6 per cent per year between 2020 and 2030.', metadata={'source': 'pdf_files\\\\fastfacts-what-is-climate-change.pdf'}),\n",
       "  Document(page_content='9. Climate change is a huge challenge, but we already know many solutions. These can deliver economic benefits while improving our lives and protecting the environment. We also have global agreements to guide progress, such as the UN Framework Convention on Climate Change and the Paris Agreement. Three broad categories of action are: cut emissions, adapt to climate impacts and finance required adjustments.', metadata={'source': 'pdf_files\\\\fastfacts-what-is-climate-change.pdf'}),\n",
       "  Document(page_content='FAST FACTS FAST FACTS\\n\\nWhat Is Climate Change?\\n\\n1. Climate change can be a natural process where temperature, rainfall, wind and other elements vary over decades or more. In millions of years, our world has been warmer and colder than it is now. But today we are experiencing rapid warming from human activities, primarily due to burning fossil fuels that generate greenhouse gas emissions.', metadata={'source': 'pdf_files\\\\fastfacts-what-is-climate-change.pdf'})]}"
      ]
     },
     "execution_count": 26,
     "metadata": {},
     "output_type": "execute_result"
    }
   ],
   "source": [
    "generated_text"
   ]
  },
  {
   "cell_type": "code",
   "execution_count": null,
   "id": "bb3e3ff2-74ff-4c08-977b-b20e476f6994",
   "metadata": {},
   "outputs": [],
   "source": []
  },
  {
   "cell_type": "code",
   "execution_count": null,
   "id": "36fcc1f2-bc8a-4858-a736-c5551ffd8098",
   "metadata": {},
   "outputs": [],
   "source": []
  },
  {
   "cell_type": "code",
   "execution_count": 27,
   "id": "5b384d8f-4276-4cbb-9ac0-71412215c9ce",
   "metadata": {},
   "outputs": [
    {
     "data": {
      "text/plain": [
       "{'query': 'What is Impedance transformation ?',\n",
       " 'result': 'The impedance is defined as a following ratio of phasors: LLLZVI',\n",
       " 'source_documents': [Document(page_content=';psspVVIaIa\\uf03d\\uf020\\uf020\\uf020\\uf020\\uf020\\uf020\\uf020\\uf020\\uf020\\uf03d\\n\\nTherefore:\\n\\ncoscoscosoutipsspppnVVIaIPVIaP\\uf071\\uf071\\uf071\\uf03d\\uf03d\\uf03d\\uf03d\\n\\nThe output power of an ideal transformer equals to its input power – to be expected since assumed no loss. Similarly, for reactive and apparent powers:\\n\\nsinsinoutssppinQVIVIQ\\uf071\\uf071\\uf03d\\uf03d\\uf03d\\n\\noutssppinSVIVIS\\uf03d\\uf03d\\uf03d\\n\\nImpedance transformation\\n\\nThe impedance is defined as a following ratio of phasors:\\n\\nLLLZ\\uf03dVI\\n\\nA transformer changes voltages and currents and, therefore, an apparent impedance of the load that is given by\\n\\nLssZ\\uf03dVI', metadata={'source': 'pdf_files\\\\TRANSFORMERS.pdf'}),\n",
       "  Document(page_content='Since the input voltage is low, the current flowing through the excitation branch is negligible; therefore, all the voltage drop in the transformer is due to the series elements in the circuit. The magnitude of the series impedance referred to the primary side of the transformer is:\\n\\nSCSESCVZI\\uf03d\\n\\nThe power factor of the current is given by:\\n\\ncosSCSCSCPPFVI\\uf071\\uf03d\\uf03d\\n\\nDetermining the values of components\\n\\nTherefore:\\n\\n0SCSCSESCSCVVZII\\uf071\\uf071\\uf0d0\\uf0b0\\uf03d\\uf03d\\uf0d0\\uf0b0\\uf0d0\\uf02d\\uf0b0\\n\\nSince the serial impedance ZSE is equal to', metadata={'source': 'pdf_files\\\\TRANSFORMERS.pdf'}),\n",
       "  Document(page_content=\"LssZ\\uf03dVI\\n\\nThe apparent impedance of the primary circuit is:\\n\\n'LppZ\\uf03dVI\\n\\nwhich is\\n\\n22'psspssLLaaaZaZ\\uf03d\\uf03d\\uf03d\\uf03dVVVIII\\n\\nAnalysis of circuits containing ideal transformers: Example\\n\\nExample 4.1: a) What is the voltage at the load? Calculate the transmission line losses? b) If a 1:10 step up transformer and a 10:1 step down transformer are placed at the generator and the load ends of the transmission line respectively, what are the new load voltage and the new transmission line losses?\", metadata={'source': 'pdf_files\\\\TRANSFORMERS.pdf'})]}"
      ]
     },
     "execution_count": 27,
     "metadata": {},
     "output_type": "execute_result"
    }
   ],
   "source": [
    "question = \"What is Impedance transformation ?\"\n",
    "generated_text = qa(question)\n",
    "generated_text"
   ]
  },
  {
   "cell_type": "code",
   "execution_count": null,
   "id": "a33cfa03-3e7c-4eee-9204-4e8ad6ac1e01",
   "metadata": {},
   "outputs": [],
   "source": []
  },
  {
   "cell_type": "code",
   "execution_count": null,
   "id": "e5e9a864-7ee1-4d2f-945e-84dd6d14009a",
   "metadata": {},
   "outputs": [],
   "source": []
  },
  {
   "cell_type": "code",
   "execution_count": null,
   "id": "f311e5ea-d92d-402c-b7eb-fabb3fba26b0",
   "metadata": {},
   "outputs": [],
   "source": []
  },
  {
   "cell_type": "code",
   "execution_count": null,
   "id": "f57959df-9268-43e5-8e05-9459f982ea31",
   "metadata": {},
   "outputs": [],
   "source": []
  },
  {
   "cell_type": "code",
   "execution_count": null,
   "id": "369148a5-7766-45af-a14b-560defb1a89f",
   "metadata": {},
   "outputs": [],
   "source": []
  },
  {
   "cell_type": "code",
   "execution_count": null,
   "id": "a1f0e5b9-2369-4ef4-b651-9dca221b4eae",
   "metadata": {},
   "outputs": [],
   "source": []
  },
  {
   "cell_type": "code",
   "execution_count": null,
   "id": "fa8447a2-65b6-44bd-892c-fdc8ac8ffc48",
   "metadata": {},
   "outputs": [],
   "source": []
  },
  {
   "cell_type": "code",
   "execution_count": null,
   "id": "2da0d74d-a5f2-4eb2-9885-5837f01b042a",
   "metadata": {},
   "outputs": [],
   "source": []
  },
  {
   "cell_type": "code",
   "execution_count": null,
   "id": "f7969bf5-8309-4a82-9bd7-b5f170d7545c",
   "metadata": {},
   "outputs": [],
   "source": []
  }
 ],
 "metadata": {
  "kernelspec": {
   "display_name": "Python 3 (ipykernel)",
   "language": "python",
   "name": "python3"
  },
  "language_info": {
   "codemirror_mode": {
    "name": "ipython",
    "version": 3
   },
   "file_extension": ".py",
   "mimetype": "text/x-python",
   "name": "python",
   "nbconvert_exporter": "python",
   "pygments_lexer": "ipython3",
   "version": "3.10.0"
  }
 },
 "nbformat": 4,
 "nbformat_minor": 5
}
