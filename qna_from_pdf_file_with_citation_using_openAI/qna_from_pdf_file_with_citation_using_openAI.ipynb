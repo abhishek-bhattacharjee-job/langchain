{
 "cells": [
  {
   "cell_type": "markdown",
   "id": "cad301d5-06a3-4e71-b36a-4017f5b1ca24",
   "metadata": {},
   "source": [
    "## 1. Set your API key"
   ]
  },
  {
   "cell_type": "code",
   "execution_count": 1,
   "id": "2955cf1a-3284-4cb6-adbd-7063a0f00d16",
   "metadata": {},
   "outputs": [],
   "source": [
    "apikey = \"sk-...............................\"\n",
    "organization = \"org-........................\""
   ]
  },
  {
   "cell_type": "code",
   "execution_count": null,
   "id": "46d795ad-ca0e-4849-bbc9-6b4024bed7b3",
   "metadata": {},
   "outputs": [],
   "source": []
  },
  {
   "cell_type": "markdown",
   "id": "c1dcad2f-b203-4cf0-a2a8-edb3db8926d3",
   "metadata": {},
   "source": [
    "## 2. load PDF files and split that into chunks"
   ]
  },
  {
   "cell_type": "code",
   "execution_count": 2,
   "id": "5bbfd6fd-dd70-4fa3-97d9-d2ea1b70656c",
   "metadata": {},
   "outputs": [],
   "source": [
    "from langchain.document_loaders import DirectoryLoader"
   ]
  },
  {
   "cell_type": "code",
   "execution_count": 3,
   "id": "590611ec-c917-4c5d-aab2-f8c5da266897",
   "metadata": {},
   "outputs": [],
   "source": [
    "document_directory = \"pdf_files\"\n",
    "loader = DirectoryLoader(document_directory)\n",
    "documents = loader.load()"
   ]
  },
  {
   "cell_type": "code",
   "execution_count": null,
   "id": "3931b6dd-2a56-45ca-be63-e8af28d56b77",
   "metadata": {},
   "outputs": [],
   "source": [
    "#documents"
   ]
  },
  {
   "cell_type": "code",
   "execution_count": null,
   "id": "7b2be16e-023c-401a-9d0a-8fc6994afb2f",
   "metadata": {},
   "outputs": [],
   "source": []
  },
  {
   "cell_type": "code",
   "execution_count": 15,
   "id": "010930c0-9e47-41eb-bea3-d235621cbcab",
   "metadata": {},
   "outputs": [],
   "source": [
    "from langchain.text_splitter import RecursiveCharacterTextSplitter"
   ]
  },
  {
   "cell_type": "code",
   "execution_count": 16,
   "id": "5ceca9ae-795f-4c29-a326-6f4211056fe9",
   "metadata": {},
   "outputs": [],
   "source": [
    "text_splitter = RecursiveCharacterTextSplitter(chunk_size=500, chunk_overlap=50)\n",
    "texts = text_splitter.split_documents(documents)"
   ]
  },
  {
   "cell_type": "code",
   "execution_count": null,
   "id": "60b95a78-d560-47f2-b7a1-747baefc6f52",
   "metadata": {},
   "outputs": [],
   "source": []
  },
  {
   "cell_type": "markdown",
   "id": "abe16d76-6e60-494e-83e3-5307a0ba56ff",
   "metadata": {},
   "source": [
    "## 3. Load OpenAI Embeddings"
   ]
  },
  {
   "cell_type": "code",
   "execution_count": 5,
   "id": "b6db85e4-fc12-449c-9e15-a54fe65445a1",
   "metadata": {},
   "outputs": [],
   "source": [
    "from langchain.embeddings import OpenAIEmbeddings"
   ]
  },
  {
   "cell_type": "code",
   "execution_count": 6,
   "id": "94f5d2ed-4b4c-4776-8fe5-99a6350db3c6",
   "metadata": {},
   "outputs": [],
   "source": [
    "embeddings = OpenAIEmbeddings(openai_api_key=apikey)"
   ]
  },
  {
   "cell_type": "code",
   "execution_count": null,
   "id": "d891cdc9-1469-48a9-a0d6-60a31ae989e8",
   "metadata": {},
   "outputs": [],
   "source": []
  },
  {
   "cell_type": "markdown",
   "id": "eddf9c07-2db5-4319-8939-9489c5b056aa",
   "metadata": {},
   "source": [
    "## 4. Load OpenAI LLM"
   ]
  },
  {
   "cell_type": "code",
   "execution_count": 7,
   "id": "173a2b3f-749a-4c2e-9684-f83530c2ceff",
   "metadata": {},
   "outputs": [],
   "source": [
    "from langchain.llms import OpenAI"
   ]
  },
  {
   "cell_type": "code",
   "execution_count": 8,
   "id": "b073a21c-831b-42b8-8511-d3e7a3afd71d",
   "metadata": {},
   "outputs": [],
   "source": [
    "llm = OpenAI(openai_api_key=apikey, openai_organization=organization)"
   ]
  },
  {
   "cell_type": "code",
   "execution_count": null,
   "id": "fc2a0595-17fb-413e-87e2-f31dde054da9",
   "metadata": {},
   "outputs": [],
   "source": []
  },
  {
   "cell_type": "markdown",
   "id": "ac1b19e0-9f10-4f7c-bf94-63cd54f7a87c",
   "metadata": {},
   "source": [
    "## 5. Create index"
   ]
  },
  {
   "cell_type": "code",
   "execution_count": 9,
   "id": "f0abfcee-1231-4a16-bf05-ab6bae641bd4",
   "metadata": {},
   "outputs": [],
   "source": [
    "from langchain.vectorstores import Chroma"
   ]
  },
  {
   "cell_type": "code",
   "execution_count": 17,
   "id": "31dec995-25a4-455e-9ff2-ec045a7f6ac6",
   "metadata": {},
   "outputs": [],
   "source": [
    "db = Chroma.from_documents(texts, embeddings)"
   ]
  },
  {
   "cell_type": "code",
   "execution_count": null,
   "id": "9983929e-96d1-4691-87b1-7342f4eab98c",
   "metadata": {},
   "outputs": [],
   "source": []
  },
  {
   "cell_type": "markdown",
   "id": "7b60879d-4f43-445a-880e-f0967bc62ca2",
   "metadata": {},
   "source": [
    "## 6. Create retriever from index and chain it with LLM"
   ]
  },
  {
   "cell_type": "code",
   "execution_count": 18,
   "id": "04367058-c6ec-4272-9644-74924e4c9c65",
   "metadata": {},
   "outputs": [],
   "source": [
    "retriever = db.as_retriever()"
   ]
  },
  {
   "cell_type": "code",
   "execution_count": 19,
   "id": "6ac6baed-d418-4a6c-9ed5-902702bcc2a6",
   "metadata": {},
   "outputs": [],
   "source": [
    "from langchain.chains import RetrievalQAWithSourcesChain"
   ]
  },
  {
   "cell_type": "code",
   "execution_count": 20,
   "id": "0ebbc7cf-9dfe-4298-9c34-7fc72e3ced14",
   "metadata": {},
   "outputs": [],
   "source": [
    "qa = RetrievalQAWithSourcesChain.from_chain_type(llm=llm, retriever=retriever)"
   ]
  },
  {
   "cell_type": "code",
   "execution_count": null,
   "id": "79351fd6-6c9e-4bc3-88da-e2805f687a88",
   "metadata": {},
   "outputs": [],
   "source": []
  },
  {
   "cell_type": "markdown",
   "id": "86f0dcf8-9a8b-41f8-a4bf-a7cad11940c3",
   "metadata": {},
   "source": [
    "## 7. Query the chain"
   ]
  },
  {
   "cell_type": "code",
   "execution_count": 24,
   "id": "ef997d4f-4a6c-4d13-a9fd-413a5ae49c59",
   "metadata": {},
   "outputs": [
    {
     "data": {
      "text/plain": [
       "{'question': 'solutions to Climate Change?',\n",
       " 'answer': ' Solutions to Climate Change include switching energy systems from fossil fuels to renewables, reducing emissions by 2050, providing financial investments by governments and businesses, and adapting to climate impacts.\\n',\n",
       " 'sources': 'pdf_files\\\\fastfacts-what-is-climate-change.pdf'}"
      ]
     },
     "execution_count": 24,
     "metadata": {},
     "output_type": "execute_result"
    }
   ],
   "source": [
    "question = \"solutions to Climate Change?\"\n",
    "generated_text = qa(question)\n",
    "generated_text"
   ]
  },
  {
   "cell_type": "code",
   "execution_count": 23,
   "id": "37dccb73-0a6c-40fa-b2ab-5a550d4d7d40",
   "metadata": {},
   "outputs": [
    {
     "data": {
      "text/plain": [
       "{'question': 'What is Impedance transformation ?',\n",
       " 'answer': ' Impedance transformation refers to the process of changing the apparent impedance of a load by using a transformer.\\n',\n",
       " 'sources': 'pdf_files\\\\TRANSFORMERS.pdf'}"
      ]
     },
     "execution_count": 23,
     "metadata": {},
     "output_type": "execute_result"
    }
   ],
   "source": [
    "question = \"What is Impedance transformation ?\"\n",
    "generated_text = qa(question)\n",
    "generated_text"
   ]
  },
  {
   "cell_type": "code",
   "execution_count": null,
   "id": "5d039e20-5538-437e-8453-c7be9859bc2a",
   "metadata": {},
   "outputs": [],
   "source": []
  },
  {
   "cell_type": "code",
   "execution_count": null,
   "id": "5ade1511-a5aa-4ba0-9a8a-e94b82f6f72b",
   "metadata": {},
   "outputs": [],
   "source": []
  },
  {
   "cell_type": "code",
   "execution_count": null,
   "id": "b509238a-b206-42be-becf-97928eee88fe",
   "metadata": {},
   "outputs": [],
   "source": []
  }
 ],
 "metadata": {
  "kernelspec": {
   "display_name": "Python 3 (ipykernel)",
   "language": "python",
   "name": "python3"
  },
  "language_info": {
   "codemirror_mode": {
    "name": "ipython",
    "version": 3
   },
   "file_extension": ".py",
   "mimetype": "text/x-python",
   "name": "python",
   "nbconvert_exporter": "python",
   "pygments_lexer": "ipython3",
   "version": "3.10.0"
  }
 },
 "nbformat": 4,
 "nbformat_minor": 5
}
