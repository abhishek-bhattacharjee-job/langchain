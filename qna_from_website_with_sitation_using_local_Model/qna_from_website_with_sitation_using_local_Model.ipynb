{
 "cells": [
  {
   "cell_type": "markdown",
   "id": "cad301d5-06a3-4e71-b36a-4017f5b1ca24",
   "metadata": {},
   "source": [
    "## 1. Set your Embedding model and LLM model"
   ]
  },
  {
   "cell_type": "code",
   "execution_count": 1,
   "id": "2955cf1a-3284-4cb6-adbd-7063a0f00d16",
   "metadata": {},
   "outputs": [],
   "source": [
    "Embedding_Model = \"hkunlp/instructor-xl\""
   ]
  },
  {
   "cell_type": "code",
   "execution_count": 2,
   "id": "46d795ad-ca0e-4849-bbc9-6b4024bed7b3",
   "metadata": {},
   "outputs": [],
   "source": [
    "LLM_Model = \"google/flan-t5-large\""
   ]
  },
  {
   "cell_type": "markdown",
   "id": "c1dcad2f-b203-4cf0-a2a8-edb3db8926d3",
   "metadata": {},
   "source": [
    "## 2. load text files"
   ]
  },
  {
   "cell_type": "code",
   "execution_count": 8,
   "id": "5bbfd6fd-dd70-4fa3-97d9-d2ea1b70656c",
   "metadata": {},
   "outputs": [],
   "source": [
    "from langchain.document_loaders import SeleniumURLLoader"
   ]
  },
  {
   "cell_type": "code",
   "execution_count": 31,
   "id": "590611ec-c917-4c5d-aab2-f8c5da266897",
   "metadata": {},
   "outputs": [],
   "source": [
    "urls_list = [\n",
    "\"http://......................\",\n",
    "\"https://.....................\"\n",
    "]"
   ]
  },
  {
   "cell_type": "code",
   "execution_count": 32,
   "id": "7a67b186-394c-4c38-911a-a590b99cf582",
   "metadata": {},
   "outputs": [],
   "source": [
    "loader = SeleniumURLLoader(urls=urls_list)\n",
    "documents = loader.load()"
   ]
  },
  {
   "cell_type": "code",
   "execution_count": 60,
   "id": "3931b6dd-2a56-45ca-be63-e8af28d56b77",
   "metadata": {
    "scrolled": true
   },
   "outputs": [],
   "source": [
    "#documents"
   ]
  },
  {
   "cell_type": "code",
   "execution_count": null,
   "id": "d66651e4-c76e-4da1-9c92-6803a5abe49a",
   "metadata": {},
   "outputs": [],
   "source": []
  },
  {
   "cell_type": "code",
   "execution_count": 34,
   "id": "b56171cb-26b5-4fed-836e-0f20e7db92ff",
   "metadata": {},
   "outputs": [],
   "source": [
    "from langchain.text_splitter import RecursiveCharacterTextSplitter"
   ]
  },
  {
   "cell_type": "code",
   "execution_count": 35,
   "id": "cd672380-96cb-48aa-9f13-cc1a8787ff1d",
   "metadata": {},
   "outputs": [],
   "source": [
    "text_splitter = RecursiveCharacterTextSplitter(chunk_size=500, chunk_overlap=50)\n",
    "texts = text_splitter.split_documents(documents)"
   ]
  },
  {
   "cell_type": "code",
   "execution_count": null,
   "id": "88eb5899-1259-47df-b91e-8dc6119289e5",
   "metadata": {},
   "outputs": [],
   "source": []
  },
  {
   "cell_type": "markdown",
   "id": "abe16d76-6e60-494e-83e3-5307a0ba56ff",
   "metadata": {},
   "source": [
    "## 3. Load Embeddings"
   ]
  },
  {
   "cell_type": "code",
   "execution_count": 3,
   "id": "b6db85e4-fc12-449c-9e15-a54fe65445a1",
   "metadata": {},
   "outputs": [],
   "source": [
    "from langchain.embeddings import HuggingFaceInstructEmbeddings"
   ]
  },
  {
   "cell_type": "code",
   "execution_count": null,
   "id": "076a9eae-8a6f-4026-add2-b3989706dea0",
   "metadata": {},
   "outputs": [],
   "source": [
    "instructor_embeddings = HuggingFaceInstructEmbeddings(model_name=Embedding_Model)"
   ]
  },
  {
   "cell_type": "code",
   "execution_count": null,
   "id": "efbd93ea-f3c0-408f-9bc2-29992b75ec89",
   "metadata": {},
   "outputs": [],
   "source": [
    "text = \"This is a test document.\"\n",
    "query_result = instructor_embeddings.embed_query(text)"
   ]
  },
  {
   "cell_type": "code",
   "execution_count": null,
   "id": "53936641-f541-4237-865d-7882f69dd522",
   "metadata": {},
   "outputs": [],
   "source": [
    "#query_result"
   ]
  },
  {
   "cell_type": "code",
   "execution_count": null,
   "id": "dba0c623-92cd-4b81-8d79-ef73fb8816c2",
   "metadata": {},
   "outputs": [],
   "source": []
  },
  {
   "cell_type": "markdown",
   "id": "eddf9c07-2db5-4319-8939-9489c5b056aa",
   "metadata": {},
   "source": [
    "## 4. Load LLM"
   ]
  },
  {
   "cell_type": "code",
   "execution_count": 6,
   "id": "173a2b3f-749a-4c2e-9684-f83530c2ceff",
   "metadata": {},
   "outputs": [],
   "source": [
    "import torch\n",
    "import transformers\n",
    "from transformers import AutoTokenizer, AutoModelForSeq2SeqLM"
   ]
  },
  {
   "cell_type": "code",
   "execution_count": 7,
   "id": "b073a21c-831b-42b8-8511-d3e7a3afd71d",
   "metadata": {},
   "outputs": [],
   "source": [
    "tokenizer = AutoTokenizer.from_pretrained(LLM_Model)\n",
    "model = AutoModelForSeq2SeqLM.from_pretrained(LLM_Model, torch_dtype=torch.float32)"
   ]
  },
  {
   "cell_type": "code",
   "execution_count": 14,
   "id": "fc2a0595-17fb-413e-87e2-f31dde054da9",
   "metadata": {},
   "outputs": [],
   "source": [
    "from transformers import pipeline\n",
    "from langchain.llms import HuggingFacePipeline\n",
    "\n",
    "pipe = pipeline(\n",
    "    \"text2text-generation\",\n",
    "    model=model, \n",
    "    tokenizer=tokenizer, \n",
    "    max_length=512,\n",
    "    temperature=0,\n",
    "    top_p=0.95,\n",
    "    repetition_penalty=1.15\n",
    ")\n",
    "\n",
    "llm = HuggingFacePipeline(pipeline=pipe)"
   ]
  },
  {
   "cell_type": "code",
   "execution_count": 15,
   "id": "fd6301fb-60b2-450e-b207-3768cb43f44f",
   "metadata": {},
   "outputs": [
    {
     "name": "stdout",
     "output_type": "stream",
     "text": [
      "calcutta\n"
     ]
    }
   ],
   "source": [
    "print(llm('What is the capital of India?'))"
   ]
  },
  {
   "cell_type": "code",
   "execution_count": null,
   "id": "1a8be15a-40df-4e63-a2a4-3f1e93b2f832",
   "metadata": {},
   "outputs": [],
   "source": []
  },
  {
   "cell_type": "markdown",
   "id": "ac1b19e0-9f10-4f7c-bf94-63cd54f7a87c",
   "metadata": {},
   "source": [
    "## 5. Create index"
   ]
  },
  {
   "cell_type": "code",
   "execution_count": 36,
   "id": "f0abfcee-1231-4a16-bf05-ab6bae641bd4",
   "metadata": {},
   "outputs": [],
   "source": [
    "from langchain.vectorstores import Chroma"
   ]
  },
  {
   "cell_type": "code",
   "execution_count": 37,
   "id": "31dec995-25a4-455e-9ff2-ec045a7f6ac6",
   "metadata": {},
   "outputs": [],
   "source": [
    "persist_directory = 'db'\n",
    "db = Chroma.from_documents(documents=texts, \n",
    "                                 embedding=instructor_embeddings,\n",
    "                                 persist_directory=persist_directory)"
   ]
  },
  {
   "cell_type": "code",
   "execution_count": null,
   "id": "57bfc664-4891-44f2-aee2-2fd535904c88",
   "metadata": {},
   "outputs": [],
   "source": []
  },
  {
   "cell_type": "markdown",
   "id": "7b60879d-4f43-445a-880e-f0967bc62ca2",
   "metadata": {},
   "source": [
    "## 6. Create retriever from index and chain it with LLM"
   ]
  },
  {
   "cell_type": "code",
   "execution_count": 38,
   "id": "04367058-c6ec-4272-9644-74924e4c9c65",
   "metadata": {},
   "outputs": [],
   "source": [
    "#retriever = db.as_retriever()\n",
    "retriever = db.as_retriever(search_kwargs={\"k\": 3})"
   ]
  },
  {
   "cell_type": "code",
   "execution_count": 39,
   "id": "71421ea9-8052-4226-9ce1-ebae07d030f3",
   "metadata": {},
   "outputs": [],
   "source": [
    "from langchain.chains import RetrievalQA"
   ]
  },
  {
   "cell_type": "code",
   "execution_count": 40,
   "id": "79351fd6-6c9e-4bc3-88da-e2805f687a88",
   "metadata": {},
   "outputs": [],
   "source": [
    "qa = RetrievalQA.from_chain_type(llm=llm, \n",
    "                                  chain_type=\"stuff\", \n",
    "                                  retriever=retriever, \n",
    "                                  return_source_documents=True)"
   ]
  },
  {
   "cell_type": "markdown",
   "id": "86f0dcf8-9a8b-41f8-a4bf-a7cad11940c3",
   "metadata": {},
   "source": [
    "## 7. Query the chain"
   ]
  },
  {
   "cell_type": "code",
   "execution_count": null,
   "id": "bf910e8a-9145-4893-aa0f-113f83124926",
   "metadata": {},
   "outputs": [],
   "source": [
    "question = \"What is ... ?\"\n",
    "generated_text = qa(question)\n",
    "generated_text"
   ]
  },
  {
   "cell_type": "code",
   "execution_count": null,
   "id": "dd597a19-896d-49c1-a2ea-f084774a6f7d",
   "metadata": {},
   "outputs": [],
   "source": []
  },
  {
   "cell_type": "code",
   "execution_count": null,
   "id": "2da0d74d-a5f2-4eb2-9885-5837f01b042a",
   "metadata": {},
   "outputs": [],
   "source": []
  },
  {
   "cell_type": "code",
   "execution_count": null,
   "id": "f7969bf5-8309-4a82-9bd7-b5f170d7545c",
   "metadata": {},
   "outputs": [],
   "source": []
  }
 ],
 "metadata": {
  "kernelspec": {
   "display_name": "Python 3 (ipykernel)",
   "language": "python",
   "name": "python3"
  },
  "language_info": {
   "codemirror_mode": {
    "name": "ipython",
    "version": 3
   },
   "file_extension": ".py",
   "mimetype": "text/x-python",
   "name": "python",
   "nbconvert_exporter": "python",
   "pygments_lexer": "ipython3",
   "version": "3.10.0"
  }
 },
 "nbformat": 4,
 "nbformat_minor": 5
}
