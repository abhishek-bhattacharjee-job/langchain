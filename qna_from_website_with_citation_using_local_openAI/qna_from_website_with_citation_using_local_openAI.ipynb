{
 "cells": [
  {
   "cell_type": "markdown",
   "id": "cad301d5-06a3-4e71-b36a-4017f5b1ca24",
   "metadata": {},
   "source": [
    "## 1. Set your API key"
   ]
  },
  {
   "cell_type": "code",
   "execution_count": 1,
   "id": "2955cf1a-3284-4cb6-adbd-7063a0f00d16",
   "metadata": {},
   "outputs": [],
   "source": [
    "apikey = \"sk-...............................\"\n",
    "organization = \"org-........................\""
   ]
  },
  {
   "cell_type": "markdown",
   "id": "c1dcad2f-b203-4cf0-a2a8-edb3db8926d3",
   "metadata": {},
   "source": [
    "## 2. Load / Scrap website data"
   ]
  },
  {
   "cell_type": "code",
   "execution_count": 4,
   "id": "fecade80-34e2-4c6f-984f-6fad5b841587",
   "metadata": {},
   "outputs": [],
   "source": [
    "from langchain.document_loaders import SeleniumURLLoader"
   ]
  },
  {
   "cell_type": "code",
   "execution_count": 22,
   "id": "49b1498d-5ddd-4208-b2a7-69da54706722",
   "metadata": {},
   "outputs": [],
   "source": [
    "urls_list = [\n",
    "\"http://......................\",\n",
    "\"https://.....................\"\n",
    "]"
   ]
  },
  {
   "cell_type": "code",
   "execution_count": 23,
   "id": "e2ddbaa0-abb7-4e4b-85d6-08c1b2ef9eb4",
   "metadata": {},
   "outputs": [],
   "source": [
    "loader = SeleniumURLLoader(urls=urls_list)\n",
    "documents = loader.load()"
   ]
  },
  {
   "cell_type": "code",
   "execution_count": 1,
   "id": "0799cbf2-05d1-4381-87ee-b488fa1d8b38",
   "metadata": {},
   "outputs": [],
   "source": [
    "#documents"
   ]
  },
  {
   "cell_type": "code",
   "execution_count": 30,
   "id": "3931b6dd-2a56-45ca-be63-e8af28d56b77",
   "metadata": {},
   "outputs": [],
   "source": [
    "from langchain.text_splitter import RecursiveCharacterTextSplitter"
   ]
  },
  {
   "cell_type": "code",
   "execution_count": 31,
   "id": "79624259-b5f0-4020-a5d8-24d3a6335a6e",
   "metadata": {},
   "outputs": [],
   "source": [
    "text_splitter = RecursiveCharacterTextSplitter(chunk_size=500, chunk_overlap=50)\n",
    "texts = text_splitter.split_documents(documents)"
   ]
  },
  {
   "cell_type": "code",
   "execution_count": null,
   "id": "715a4055-d3db-47dd-b2aa-545d569f73e2",
   "metadata": {},
   "outputs": [],
   "source": []
  },
  {
   "cell_type": "code",
   "execution_count": null,
   "id": "5dfc9bd5-aa7d-4282-a97a-8947002d8a8a",
   "metadata": {},
   "outputs": [],
   "source": []
  },
  {
   "cell_type": "markdown",
   "id": "abe16d76-6e60-494e-83e3-5307a0ba56ff",
   "metadata": {},
   "source": [
    "## 3. Load OpenAI Embeddings"
   ]
  },
  {
   "cell_type": "code",
   "execution_count": 10,
   "id": "b6db85e4-fc12-449c-9e15-a54fe65445a1",
   "metadata": {},
   "outputs": [],
   "source": [
    "from langchain.embeddings import OpenAIEmbeddings"
   ]
  },
  {
   "cell_type": "code",
   "execution_count": 11,
   "id": "94f5d2ed-4b4c-4776-8fe5-99a6350db3c6",
   "metadata": {},
   "outputs": [],
   "source": [
    "embeddings = OpenAIEmbeddings(openai_api_key=apikey)"
   ]
  },
  {
   "cell_type": "code",
   "execution_count": null,
   "id": "d891cdc9-1469-48a9-a0d6-60a31ae989e8",
   "metadata": {},
   "outputs": [],
   "source": []
  },
  {
   "cell_type": "markdown",
   "id": "eddf9c07-2db5-4319-8939-9489c5b056aa",
   "metadata": {},
   "source": [
    "## 4. Load OpenAI LLM"
   ]
  },
  {
   "cell_type": "code",
   "execution_count": 12,
   "id": "173a2b3f-749a-4c2e-9684-f83530c2ceff",
   "metadata": {},
   "outputs": [],
   "source": [
    "from langchain.llms import OpenAI"
   ]
  },
  {
   "cell_type": "code",
   "execution_count": 13,
   "id": "b073a21c-831b-42b8-8511-d3e7a3afd71d",
   "metadata": {},
   "outputs": [],
   "source": [
    "llm = OpenAI(openai_api_key=apikey, openai_organization=organization)"
   ]
  },
  {
   "cell_type": "code",
   "execution_count": null,
   "id": "fc2a0595-17fb-413e-87e2-f31dde054da9",
   "metadata": {},
   "outputs": [],
   "source": []
  },
  {
   "cell_type": "markdown",
   "id": "ac1b19e0-9f10-4f7c-bf94-63cd54f7a87c",
   "metadata": {},
   "source": [
    "## 5. Create index"
   ]
  },
  {
   "cell_type": "code",
   "execution_count": 14,
   "id": "f0abfcee-1231-4a16-bf05-ab6bae641bd4",
   "metadata": {},
   "outputs": [],
   "source": [
    "from langchain.vectorstores import Chroma"
   ]
  },
  {
   "cell_type": "code",
   "execution_count": 32,
   "id": "57bfc664-4891-44f2-aee2-2fd535904c88",
   "metadata": {},
   "outputs": [],
   "source": [
    "db = Chroma.from_documents(texts, embeddings)"
   ]
  },
  {
   "cell_type": "code",
   "execution_count": null,
   "id": "31dec995-25a4-455e-9ff2-ec045a7f6ac6",
   "metadata": {},
   "outputs": [],
   "source": []
  },
  {
   "cell_type": "markdown",
   "id": "7b60879d-4f43-445a-880e-f0967bc62ca2",
   "metadata": {},
   "source": [
    "## 6. Create retriever from index and chain it with LLM"
   ]
  },
  {
   "cell_type": "code",
   "execution_count": 33,
   "id": "04367058-c6ec-4272-9644-74924e4c9c65",
   "metadata": {},
   "outputs": [],
   "source": [
    "retriever = db.as_retriever()"
   ]
  },
  {
   "cell_type": "code",
   "execution_count": 34,
   "id": "6ac6baed-d418-4a6c-9ed5-902702bcc2a6",
   "metadata": {},
   "outputs": [],
   "source": [
    "from langchain.chains import RetrievalQAWithSourcesChain"
   ]
  },
  {
   "cell_type": "code",
   "execution_count": 35,
   "id": "0ebbc7cf-9dfe-4298-9c34-7fc72e3ced14",
   "metadata": {},
   "outputs": [],
   "source": [
    "qa = RetrievalQAWithSourcesChain.from_chain_type(llm=llm, retriever=retriever, return_source_documents=True)"
   ]
  },
  {
   "cell_type": "code",
   "execution_count": null,
   "id": "79351fd6-6c9e-4bc3-88da-e2805f687a88",
   "metadata": {},
   "outputs": [],
   "source": []
  },
  {
   "cell_type": "markdown",
   "id": "86f0dcf8-9a8b-41f8-a4bf-a7cad11940c3",
   "metadata": {},
   "source": [
    "## 7. Query the chain"
   ]
  },
  {
   "cell_type": "code",
   "execution_count": null,
   "id": "31dfc802-7bc8-4650-b2a5-5729fae7bd82",
   "metadata": {},
   "outputs": [],
   "source": [
    "question = \"What is ... ?\"\n",
    "generated_text = qa(question)\n",
    "generated_text"
   ]
  },
  {
   "cell_type": "code",
   "execution_count": null,
   "id": "2debc646-5202-4fa3-b2f9-7a34218d4749",
   "metadata": {},
   "outputs": [],
   "source": []
  },
  {
   "cell_type": "code",
   "execution_count": null,
   "id": "9d5eb90c-995c-49f1-a75d-a8569093466f",
   "metadata": {},
   "outputs": [],
   "source": []
  }
 ],
 "metadata": {
  "kernelspec": {
   "display_name": "Python 3 (ipykernel)",
   "language": "python",
   "name": "python3"
  },
  "language_info": {
   "codemirror_mode": {
    "name": "ipython",
    "version": 3
   },
   "file_extension": ".py",
   "mimetype": "text/x-python",
   "name": "python",
   "nbconvert_exporter": "python",
   "pygments_lexer": "ipython3",
   "version": "3.10.0"
  }
 },
 "nbformat": 4,
 "nbformat_minor": 5
}
